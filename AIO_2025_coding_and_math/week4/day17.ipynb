{
 "cells": [
  {
   "cell_type": "code",
   "execution_count": 1,
   "metadata": {},
   "outputs": [
    {
     "name": "stdout",
     "output_type": "stream",
     "text": [
      "Collecting wandb\n",
      "  Downloading wandb-0.19.8-py3-none-win_amd64.whl.metadata (10 kB)\n",
      "Collecting click!=8.0.0,>=7.1 (from wandb)\n",
      "  Using cached click-8.1.8-py3-none-any.whl.metadata (2.3 kB)\n",
      "Collecting docker-pycreds>=0.4.0 (from wandb)\n",
      "  Downloading docker_pycreds-0.4.0-py2.py3-none-any.whl.metadata (1.8 kB)\n",
      "Collecting gitpython!=3.1.29,>=1.0.0 (from wandb)\n",
      "  Downloading GitPython-3.1.44-py3-none-any.whl.metadata (13 kB)\n",
      "Requirement already satisfied: platformdirs in c:\\users\\admin\\anaconda3\\envs\\aio_env_0703\\lib\\site-packages (from wandb) (4.3.6)\n",
      "Collecting protobuf!=4.21.0,!=5.28.0,<6,>=3.19.0 (from wandb)\n",
      "  Using cached protobuf-5.29.3-cp310-abi3-win_amd64.whl.metadata (592 bytes)\n",
      "Requirement already satisfied: psutil>=5.0.0 in c:\\users\\admin\\anaconda3\\envs\\aio_env_0703\\lib\\site-packages (from wandb) (5.9.0)\n",
      "Collecting pydantic<3,>=2.6 (from wandb)\n",
      "  Using cached pydantic-2.10.6-py3-none-any.whl.metadata (30 kB)\n",
      "Collecting pyyaml (from wandb)\n",
      "  Downloading PyYAML-6.0.2-cp312-cp312-win_amd64.whl.metadata (2.1 kB)\n",
      "Collecting requests<3,>=2.0.0 (from wandb)\n",
      "  Using cached requests-2.32.3-py3-none-any.whl.metadata (4.6 kB)\n",
      "Collecting sentry-sdk>=2.0.0 (from wandb)\n",
      "  Downloading sentry_sdk-2.22.0-py2.py3-none-any.whl.metadata (10 kB)\n",
      "Collecting setproctitle (from wandb)\n",
      "  Downloading setproctitle-1.3.5-cp312-cp312-win_amd64.whl.metadata (10 kB)\n",
      "Requirement already satisfied: setuptools in c:\\users\\admin\\anaconda3\\envs\\aio_env_0703\\lib\\site-packages (from wandb) (75.8.0)\n",
      "Requirement already satisfied: colorama in c:\\users\\admin\\anaconda3\\envs\\aio_env_0703\\lib\\site-packages (from click!=8.0.0,>=7.1->wandb) (0.4.6)\n",
      "Requirement already satisfied: six>=1.4.0 in c:\\users\\admin\\anaconda3\\envs\\aio_env_0703\\lib\\site-packages (from docker-pycreds>=0.4.0->wandb) (1.16.0)\n",
      "Collecting gitdb<5,>=4.0.1 (from gitpython!=3.1.29,>=1.0.0->wandb)\n",
      "  Downloading gitdb-4.0.12-py3-none-any.whl.metadata (1.2 kB)\n",
      "Collecting annotated-types>=0.6.0 (from pydantic<3,>=2.6->wandb)\n",
      "  Using cached annotated_types-0.7.0-py3-none-any.whl.metadata (15 kB)\n",
      "Collecting pydantic-core==2.27.2 (from pydantic<3,>=2.6->wandb)\n",
      "  Downloading pydantic_core-2.27.2-cp312-cp312-win_amd64.whl.metadata (6.7 kB)\n",
      "Requirement already satisfied: typing-extensions>=4.12.2 in c:\\users\\admin\\anaconda3\\envs\\aio_env_0703\\lib\\site-packages (from pydantic<3,>=2.6->wandb) (4.12.2)\n",
      "Collecting charset-normalizer<4,>=2 (from requests<3,>=2.0.0->wandb)\n",
      "  Downloading charset_normalizer-3.4.1-cp312-cp312-win_amd64.whl.metadata (36 kB)\n",
      "Collecting idna<4,>=2.5 (from requests<3,>=2.0.0->wandb)\n",
      "  Using cached idna-3.10-py3-none-any.whl.metadata (10 kB)\n",
      "Collecting urllib3<3,>=1.21.1 (from requests<3,>=2.0.0->wandb)\n",
      "  Using cached urllib3-2.3.0-py3-none-any.whl.metadata (6.5 kB)\n",
      "Collecting certifi>=2017.4.17 (from requests<3,>=2.0.0->wandb)\n",
      "  Using cached certifi-2025.1.31-py3-none-any.whl.metadata (2.5 kB)\n",
      "Collecting smmap<6,>=3.0.1 (from gitdb<5,>=4.0.1->gitpython!=3.1.29,>=1.0.0->wandb)\n",
      "  Downloading smmap-5.0.2-py3-none-any.whl.metadata (4.3 kB)\n",
      "Downloading wandb-0.19.8-py3-none-win_amd64.whl (20.2 MB)\n",
      "   ---------------------------------------- 0.0/20.2 MB ? eta -:--:--\n",
      "   ---- ----------------------------------- 2.1/20.2 MB 14.7 MB/s eta 0:00:02\n",
      "   ----- ---------------------------------- 2.6/20.2 MB 8.4 MB/s eta 0:00:03\n",
      "   ------ --------------------------------- 3.4/20.2 MB 5.8 MB/s eta 0:00:03\n",
      "   ------- -------------------------------- 3.9/20.2 MB 5.0 MB/s eta 0:00:04\n",
      "   -------- ------------------------------- 4.5/20.2 MB 4.4 MB/s eta 0:00:04\n",
      "   --------- ------------------------------ 5.0/20.2 MB 4.4 MB/s eta 0:00:04\n",
      "   ----------- ---------------------------- 5.8/20.2 MB 4.0 MB/s eta 0:00:04\n",
      "   ------------ --------------------------- 6.3/20.2 MB 3.9 MB/s eta 0:00:04\n",
      "   ------------- -------------------------- 6.8/20.2 MB 3.8 MB/s eta 0:00:04\n",
      "   --------------- ------------------------ 7.6/20.2 MB 3.6 MB/s eta 0:00:04\n",
      "   ---------------- ----------------------- 8.1/20.2 MB 3.6 MB/s eta 0:00:04\n",
      "   ----------------- ---------------------- 8.7/20.2 MB 3.6 MB/s eta 0:00:04\n",
      "   ------------------ --------------------- 9.2/20.2 MB 3.5 MB/s eta 0:00:04\n",
      "   ------------------ --------------------- 9.2/20.2 MB 3.5 MB/s eta 0:00:04\n",
      "   ------------------ --------------------- 9.4/20.2 MB 3.2 MB/s eta 0:00:04\n",
      "   ------------------- -------------------- 9.7/20.2 MB 3.0 MB/s eta 0:00:04\n",
      "   -------------------- ------------------- 10.2/20.2 MB 2.9 MB/s eta 0:00:04\n",
      "   --------------------- ------------------ 10.7/20.2 MB 2.9 MB/s eta 0:00:04\n",
      "   ---------------------- ----------------- 11.3/20.2 MB 2.9 MB/s eta 0:00:04\n",
      "   ----------------------- ---------------- 11.8/20.2 MB 2.9 MB/s eta 0:00:03\n",
      "   ------------------------ --------------- 12.6/20.2 MB 2.9 MB/s eta 0:00:03\n",
      "   -------------------------- ------------- 13.4/20.2 MB 2.9 MB/s eta 0:00:03\n",
      "   ---------------------------- ----------- 14.2/20.2 MB 3.0 MB/s eta 0:00:03\n",
      "   ------------------------------ --------- 15.2/20.2 MB 3.1 MB/s eta 0:00:02\n",
      "   -------------------------------- ------- 16.3/20.2 MB 3.1 MB/s eta 0:00:02\n",
      "   --------------------------------- ------ 17.0/20.2 MB 3.2 MB/s eta 0:00:01\n",
      "   ---------------------------------- ----- 17.3/20.2 MB 3.2 MB/s eta 0:00:01\n",
      "   ---------------------------------- ----- 17.6/20.2 MB 3.1 MB/s eta 0:00:01\n",
      "   ----------------------------------- ---- 18.1/20.2 MB 3.0 MB/s eta 0:00:01\n",
      "   ------------------------------------ --- 18.4/20.2 MB 3.0 MB/s eta 0:00:01\n",
      "   ------------------------------------- -- 18.9/20.2 MB 2.9 MB/s eta 0:00:01\n",
      "   -------------------------------------- - 19.4/20.2 MB 2.9 MB/s eta 0:00:01\n",
      "   ---------------------------------------  19.9/20.2 MB 2.9 MB/s eta 0:00:01\n",
      "   ---------------------------------------- 20.2/20.2 MB 2.9 MB/s eta 0:00:00\n",
      "Using cached click-8.1.8-py3-none-any.whl (98 kB)\n",
      "Downloading docker_pycreds-0.4.0-py2.py3-none-any.whl (9.0 kB)\n",
      "Downloading GitPython-3.1.44-py3-none-any.whl (207 kB)\n",
      "Using cached protobuf-5.29.3-cp310-abi3-win_amd64.whl (434 kB)\n",
      "Using cached pydantic-2.10.6-py3-none-any.whl (431 kB)\n",
      "Downloading pydantic_core-2.27.2-cp312-cp312-win_amd64.whl (2.0 MB)\n",
      "   ---------------------------------------- 0.0/2.0 MB ? eta -:--:--\n",
      "   ---------- ----------------------------- 0.5/2.0 MB 3.4 MB/s eta 0:00:01\n",
      "   -------------------------- ------------- 1.3/2.0 MB 3.7 MB/s eta 0:00:01\n",
      "   ---------------------------------------- 2.0/2.0 MB 3.8 MB/s eta 0:00:00\n",
      "Using cached requests-2.32.3-py3-none-any.whl (64 kB)\n",
      "Downloading sentry_sdk-2.22.0-py2.py3-none-any.whl (325 kB)\n",
      "Downloading PyYAML-6.0.2-cp312-cp312-win_amd64.whl (156 kB)\n",
      "Downloading setproctitle-1.3.5-cp312-cp312-win_amd64.whl (12 kB)\n",
      "Using cached annotated_types-0.7.0-py3-none-any.whl (13 kB)\n",
      "Using cached certifi-2025.1.31-py3-none-any.whl (166 kB)\n",
      "Downloading charset_normalizer-3.4.1-cp312-cp312-win_amd64.whl (102 kB)\n",
      "Downloading gitdb-4.0.12-py3-none-any.whl (62 kB)\n",
      "Using cached idna-3.10-py3-none-any.whl (70 kB)\n",
      "Using cached urllib3-2.3.0-py3-none-any.whl (128 kB)\n",
      "Downloading smmap-5.0.2-py3-none-any.whl (24 kB)\n",
      "Installing collected packages: urllib3, smmap, setproctitle, pyyaml, pydantic-core, protobuf, idna, docker-pycreds, click, charset-normalizer, certifi, annotated-types, sentry-sdk, requests, pydantic, gitdb, gitpython, wandb\n",
      "Successfully installed annotated-types-0.7.0 certifi-2025.1.31 charset-normalizer-3.4.1 click-8.1.8 docker-pycreds-0.4.0 gitdb-4.0.12 gitpython-3.1.44 idna-3.10 protobuf-5.29.3 pydantic-2.10.6 pydantic-core-2.27.2 pyyaml-6.0.2 requests-2.32.3 sentry-sdk-2.22.0 setproctitle-1.3.5 smmap-5.0.2 urllib3-2.3.0 wandb-0.19.8\n"
     ]
    }
   ],
   "source": [
    "! pip install wandb\n"
   ]
  },
  {
   "cell_type": "code",
   "execution_count": 1,
   "metadata": {},
   "outputs": [
    {
     "name": "stderr",
     "output_type": "stream",
     "text": [
      "wandb: ERROR Find detailed error logs at: C:\\Users\\Admin\\AppData\\Local\\Temp\\debug-cli.Admin.log\n",
      "Error: api_key not configured (no-tty). call wandb login [your_api_key]\n"
     ]
    }
   ],
   "source": [
    "!wandb login"
   ]
  },
  {
   "cell_type": "code",
   "execution_count": null,
   "metadata": {},
   "outputs": [],
   "source": []
  },
  {
   "cell_type": "code",
   "execution_count": null,
   "metadata": {},
   "outputs": [],
   "source": []
  }
 ],
 "metadata": {
  "kernelspec": {
   "display_name": "aio_env_0703",
   "language": "python",
   "name": "python3"
  },
  "language_info": {
   "codemirror_mode": {
    "name": "ipython",
    "version": 3
   },
   "file_extension": ".py",
   "mimetype": "text/x-python",
   "name": "python",
   "nbconvert_exporter": "python",
   "pygments_lexer": "ipython3",
   "version": "3.12.9"
  }
 },
 "nbformat": 4,
 "nbformat_minor": 2
}
