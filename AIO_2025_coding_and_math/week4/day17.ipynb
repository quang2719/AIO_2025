{
 "cells": [
  {
   "cell_type": "code",
   "execution_count": 1,
   "metadata": {},
   "outputs": [
    {
     "name": "stdout",
     "output_type": "stream",
     "text": [
      "Collecting wandb\n",
      "  Downloading wandb-0.19.8-py3-none-win_amd64.whl.metadata (10 kB)\n",
      "Collecting click!=8.0.0,>=7.1 (from wandb)\n",
      "  Using cached click-8.1.8-py3-none-any.whl.metadata (2.3 kB)\n",
      "Collecting docker-pycreds>=0.4.0 (from wandb)\n",
      "  Downloading docker_pycreds-0.4.0-py2.py3-none-any.whl.metadata (1.8 kB)\n",
      "Collecting gitpython!=3.1.29,>=1.0.0 (from wandb)\n",
      "  Downloading GitPython-3.1.44-py3-none-any.whl.metadata (13 kB)\n",
      "Requirement already satisfied: platformdirs in c:\\users\\admin\\anaconda3\\envs\\aio_env_0703\\lib\\site-packages (from wandb) (4.3.6)\n",
      "Collecting protobuf!=4.21.0,!=5.28.0,<6,>=3.19.0 (from wandb)\n",
      "  Using cached protobuf-5.29.3-cp310-abi3-win_amd64.whl.metadata (592 bytes)\n",
      "Requirement already satisfied: psutil>=5.0.0 in c:\\users\\admin\\anaconda3\\envs\\aio_env_0703\\lib\\site-packages (from wandb) (5.9.0)\n",
      "Collecting pydantic<3,>=2.6 (from wandb)\n",
      "  Using cached pydantic-2.10.6-py3-none-any.whl.metadata (30 kB)\n",
      "Collecting pyyaml (from wandb)\n",
      "  Downloading PyYAML-6.0.2-cp312-cp312-win_amd64.whl.metadata (2.1 kB)\n",
      "Collecting requests<3,>=2.0.0 (from wandb)\n",
      "  Using cached requests-2.32.3-py3-none-any.whl.metadata (4.6 kB)\n",
      "Collecting sentry-sdk>=2.0.0 (from wandb)\n",
      "  Downloading sentry_sdk-2.22.0-py2.py3-none-any.whl.metadata (10 kB)\n",
      "Collecting setproctitle (from wandb)\n",
      "  Downloading setproctitle-1.3.5-cp312-cp312-win_amd64.whl.metadata (10 kB)\n",
      "Requirement already satisfied: setuptools in c:\\users\\admin\\anaconda3\\envs\\aio_env_0703\\lib\\site-packages (from wandb) (75.8.0)\n",
      "Requirement already satisfied: colorama in c:\\users\\admin\\anaconda3\\envs\\aio_env_0703\\lib\\site-packages (from click!=8.0.0,>=7.1->wandb) (0.4.6)\n",
      "Requirement already satisfied: six>=1.4.0 in c:\\users\\admin\\anaconda3\\envs\\aio_env_0703\\lib\\site-packages (from docker-pycreds>=0.4.0->wandb) (1.16.0)\n",
      "Collecting gitdb<5,>=4.0.1 (from gitpython!=3.1.29,>=1.0.0->wandb)\n",
      "  Downloading gitdb-4.0.12-py3-none-any.whl.metadata (1.2 kB)\n",
      "Collecting annotated-types>=0.6.0 (from pydantic<3,>=2.6->wandb)\n",
      "  Using cached annotated_types-0.7.0-py3-none-any.whl.metadata (15 kB)\n",
      "Collecting pydantic-core==2.27.2 (from pydantic<3,>=2.6->wandb)\n",
      "  Downloading pydantic_core-2.27.2-cp312-cp312-win_amd64.whl.metadata (6.7 kB)\n",
      "Requirement already satisfied: typing-extensions>=4.12.2 in c:\\users\\admin\\anaconda3\\envs\\aio_env_0703\\lib\\site-packages (from pydantic<3,>=2.6->wandb) (4.12.2)\n",
      "Collecting charset-normalizer<4,>=2 (from requests<3,>=2.0.0->wandb)\n",
      "  Downloading charset_normalizer-3.4.1-cp312-cp312-win_amd64.whl.metadata (36 kB)\n",
      "Collecting idna<4,>=2.5 (from requests<3,>=2.0.0->wandb)\n",
      "  Using cached idna-3.10-py3-none-any.whl.metadata (10 kB)\n",
      "Collecting urllib3<3,>=1.21.1 (from requests<3,>=2.0.0->wandb)\n",
      "  Using cached urllib3-2.3.0-py3-none-any.whl.metadata (6.5 kB)\n",
      "Collecting certifi>=2017.4.17 (from requests<3,>=2.0.0->wandb)\n",
      "  Using cached certifi-2025.1.31-py3-none-any.whl.metadata (2.5 kB)\n",
      "Collecting smmap<6,>=3.0.1 (from gitdb<5,>=4.0.1->gitpython!=3.1.29,>=1.0.0->wandb)\n",
      "  Downloading smmap-5.0.2-py3-none-any.whl.metadata (4.3 kB)\n",
      "Downloading wandb-0.19.8-py3-none-win_amd64.whl (20.2 MB)\n",
      "   ---------------------------------------- 0.0/20.2 MB ? eta -:--:--\n",
      "   ---- ----------------------------------- 2.1/20.2 MB 14.7 MB/s eta 0:00:02\n",
      "   ----- ---------------------------------- 2.6/20.2 MB 8.4 MB/s eta 0:00:03\n",
      "   ------ --------------------------------- 3.4/20.2 MB 5.8 MB/s eta 0:00:03\n",
      "   ------- -------------------------------- 3.9/20.2 MB 5.0 MB/s eta 0:00:04\n",
      "   -------- ------------------------------- 4.5/20.2 MB 4.4 MB/s eta 0:00:04\n",
      "   --------- ------------------------------ 5.0/20.2 MB 4.4 MB/s eta 0:00:04\n",
      "   ----------- ---------------------------- 5.8/20.2 MB 4.0 MB/s eta 0:00:04\n",
      "   ------------ --------------------------- 6.3/20.2 MB 3.9 MB/s eta 0:00:04\n",
      "   ------------- -------------------------- 6.8/20.2 MB 3.8 MB/s eta 0:00:04\n",
      "   --------------- ------------------------ 7.6/20.2 MB 3.6 MB/s eta 0:00:04\n",
      "   ---------------- ----------------------- 8.1/20.2 MB 3.6 MB/s eta 0:00:04\n",
      "   ----------------- ---------------------- 8.7/20.2 MB 3.6 MB/s eta 0:00:04\n",
      "   ------------------ --------------------- 9.2/20.2 MB 3.5 MB/s eta 0:00:04\n",
      "   ------------------ --------------------- 9.2/20.2 MB 3.5 MB/s eta 0:00:04\n",
      "   ------------------ --------------------- 9.4/20.2 MB 3.2 MB/s eta 0:00:04\n",
      "   ------------------- -------------------- 9.7/20.2 MB 3.0 MB/s eta 0:00:04\n",
      "   -------------------- ------------------- 10.2/20.2 MB 2.9 MB/s eta 0:00:04\n",
      "   --------------------- ------------------ 10.7/20.2 MB 2.9 MB/s eta 0:00:04\n",
      "   ---------------------- ----------------- 11.3/20.2 MB 2.9 MB/s eta 0:00:04\n",
      "   ----------------------- ---------------- 11.8/20.2 MB 2.9 MB/s eta 0:00:03\n",
      "   ------------------------ --------------- 12.6/20.2 MB 2.9 MB/s eta 0:00:03\n",
      "   -------------------------- ------------- 13.4/20.2 MB 2.9 MB/s eta 0:00:03\n",
      "   ---------------------------- ----------- 14.2/20.2 MB 3.0 MB/s eta 0:00:03\n",
      "   ------------------------------ --------- 15.2/20.2 MB 3.1 MB/s eta 0:00:02\n",
      "   -------------------------------- ------- 16.3/20.2 MB 3.1 MB/s eta 0:00:02\n",
      "   --------------------------------- ------ 17.0/20.2 MB 3.2 MB/s eta 0:00:01\n",
      "   ---------------------------------- ----- 17.3/20.2 MB 3.2 MB/s eta 0:00:01\n",
      "   ---------------------------------- ----- 17.6/20.2 MB 3.1 MB/s eta 0:00:01\n",
      "   ----------------------------------- ---- 18.1/20.2 MB 3.0 MB/s eta 0:00:01\n",
      "   ------------------------------------ --- 18.4/20.2 MB 3.0 MB/s eta 0:00:01\n",
      "   ------------------------------------- -- 18.9/20.2 MB 2.9 MB/s eta 0:00:01\n",
      "   -------------------------------------- - 19.4/20.2 MB 2.9 MB/s eta 0:00:01\n",
      "   ---------------------------------------  19.9/20.2 MB 2.9 MB/s eta 0:00:01\n",
      "   ---------------------------------------- 20.2/20.2 MB 2.9 MB/s eta 0:00:00\n",
      "Using cached click-8.1.8-py3-none-any.whl (98 kB)\n",
      "Downloading docker_pycreds-0.4.0-py2.py3-none-any.whl (9.0 kB)\n",
      "Downloading GitPython-3.1.44-py3-none-any.whl (207 kB)\n",
      "Using cached protobuf-5.29.3-cp310-abi3-win_amd64.whl (434 kB)\n",
      "Using cached pydantic-2.10.6-py3-none-any.whl (431 kB)\n",
      "Downloading pydantic_core-2.27.2-cp312-cp312-win_amd64.whl (2.0 MB)\n",
      "   ---------------------------------------- 0.0/2.0 MB ? eta -:--:--\n",
      "   ---------- ----------------------------- 0.5/2.0 MB 3.4 MB/s eta 0:00:01\n",
      "   -------------------------- ------------- 1.3/2.0 MB 3.7 MB/s eta 0:00:01\n",
      "   ---------------------------------------- 2.0/2.0 MB 3.8 MB/s eta 0:00:00\n",
      "Using cached requests-2.32.3-py3-none-any.whl (64 kB)\n",
      "Downloading sentry_sdk-2.22.0-py2.py3-none-any.whl (325 kB)\n",
      "Downloading PyYAML-6.0.2-cp312-cp312-win_amd64.whl (156 kB)\n",
      "Downloading setproctitle-1.3.5-cp312-cp312-win_amd64.whl (12 kB)\n",
      "Using cached annotated_types-0.7.0-py3-none-any.whl (13 kB)\n",
      "Using cached certifi-2025.1.31-py3-none-any.whl (166 kB)\n",
      "Downloading charset_normalizer-3.4.1-cp312-cp312-win_amd64.whl (102 kB)\n",
      "Downloading gitdb-4.0.12-py3-none-any.whl (62 kB)\n",
      "Using cached idna-3.10-py3-none-any.whl (70 kB)\n",
      "Using cached urllib3-2.3.0-py3-none-any.whl (128 kB)\n",
      "Downloading smmap-5.0.2-py3-none-any.whl (24 kB)\n",
      "Installing collected packages: urllib3, smmap, setproctitle, pyyaml, pydantic-core, protobuf, idna, docker-pycreds, click, charset-normalizer, certifi, annotated-types, sentry-sdk, requests, pydantic, gitdb, gitpython, wandb\n",
      "Successfully installed annotated-types-0.7.0 certifi-2025.1.31 charset-normalizer-3.4.1 click-8.1.8 docker-pycreds-0.4.0 gitdb-4.0.12 gitpython-3.1.44 idna-3.10 protobuf-5.29.3 pydantic-2.10.6 pydantic-core-2.27.2 pyyaml-6.0.2 requests-2.32.3 sentry-sdk-2.22.0 setproctitle-1.3.5 smmap-5.0.2 urllib3-2.3.0 wandb-0.19.8\n"
     ]
    }
   ],
   "source": [
    "! pip install wandb\n"
   ]
  },
  {
   "cell_type": "code",
   "execution_count": null,
   "metadata": {},
   "outputs": [
    {
     "name": "stderr",
     "output_type": "stream",
     "text": [
      "wandb: No netrc file found, creating one.\n",
      "wandb: Appending key for api.wandb.ai to your netrc file: C:\\Users\\Admin\\_netrc\n",
      "wandb: W&B API key is configured. Use `wandb login --relogin` to force relogin\n"
     ]
    }
   ],
   "source": [
    "!wandb login "
   ]
  },
  {
   "cell_type": "code",
   "execution_count": 5,
   "metadata": {},
   "outputs": [
    {
     "name": "stdout",
     "output_type": "stream",
     "text": [
      "Collecting pandas\n",
      "  Downloading pandas-2.2.3-cp312-cp312-win_amd64.whl.metadata (19 kB)\n",
      "Requirement already satisfied: numpy>=1.26.0 in c:\\users\\admin\\anaconda3\\envs\\aio_env_0703\\lib\\site-packages (from pandas) (2.0.1)\n",
      "Requirement already satisfied: python-dateutil>=2.8.2 in c:\\users\\admin\\anaconda3\\envs\\aio_env_0703\\lib\\site-packages (from pandas) (2.9.0.post0)\n",
      "Collecting pytz>=2020.1 (from pandas)\n",
      "  Using cached pytz-2025.1-py2.py3-none-any.whl.metadata (22 kB)\n",
      "Collecting tzdata>=2022.7 (from pandas)\n",
      "  Using cached tzdata-2025.1-py2.py3-none-any.whl.metadata (1.4 kB)\n",
      "Requirement already satisfied: six>=1.5 in c:\\users\\admin\\anaconda3\\envs\\aio_env_0703\\lib\\site-packages (from python-dateutil>=2.8.2->pandas) (1.16.0)\n",
      "Downloading pandas-2.2.3-cp312-cp312-win_amd64.whl (11.5 MB)\n",
      "   ---------------------------------------- 0.0/11.5 MB ? eta -:--:--\n",
      "   ----- ---------------------------------- 1.6/11.5 MB 20.8 MB/s eta 0:00:01\n",
      "   ---------- ----------------------------- 2.9/11.5 MB 7.6 MB/s eta 0:00:02\n",
      "   ----------- ---------------------------- 3.4/11.5 MB 5.8 MB/s eta 0:00:02\n",
      "   ------------- -------------------------- 3.9/11.5 MB 4.9 MB/s eta 0:00:02\n",
      "   ---------------- ----------------------- 4.7/11.5 MB 4.6 MB/s eta 0:00:02\n",
      "   ------------------ --------------------- 5.2/11.5 MB 4.3 MB/s eta 0:00:02\n",
      "   ------------------- -------------------- 5.5/11.5 MB 4.2 MB/s eta 0:00:02\n",
      "   --------------------- ------------------ 6.3/11.5 MB 3.9 MB/s eta 0:00:02\n",
      "   ----------------------- ---------------- 6.8/11.5 MB 3.6 MB/s eta 0:00:02\n",
      "   ------------------------ --------------- 7.1/11.5 MB 3.4 MB/s eta 0:00:02\n",
      "   ------------------------- -------------- 7.3/11.5 MB 3.3 MB/s eta 0:00:02\n",
      "   -------------------------- ------------- 7.6/11.5 MB 3.1 MB/s eta 0:00:02\n",
      "   ---------------------------- ----------- 8.1/11.5 MB 3.0 MB/s eta 0:00:02\n",
      "   ----------------------------- ---------- 8.4/11.5 MB 2.9 MB/s eta 0:00:02\n",
      "   ------------------------------ --------- 8.9/11.5 MB 2.9 MB/s eta 0:00:01\n",
      "   -------------------------------- ------- 9.4/11.5 MB 2.9 MB/s eta 0:00:01\n",
      "   ----------------------------------- ---- 10.2/11.5 MB 2.8 MB/s eta 0:00:01\n",
      "   ------------------------------------- -- 10.7/11.5 MB 2.9 MB/s eta 0:00:01\n",
      "   ---------------------------------------  11.3/11.5 MB 2.9 MB/s eta 0:00:01\n",
      "   ---------------------------------------- 11.5/11.5 MB 2.9 MB/s eta 0:00:00\n",
      "Using cached pytz-2025.1-py2.py3-none-any.whl (507 kB)\n",
      "Using cached tzdata-2025.1-py2.py3-none-any.whl (346 kB)\n",
      "Installing collected packages: pytz, tzdata, pandas\n",
      "Successfully installed pandas-2.2.3 pytz-2025.1 tzdata-2025.1\n"
     ]
    }
   ],
   "source": [
    "!pip install pandas"
   ]
  },
  {
   "cell_type": "code",
   "execution_count": 20,
   "metadata": {},
   "outputs": [],
   "source": [
    "import pandas as pd\n",
    "import wandb\n",
    "\n",
    "areas =  [6.7 , 4.6 , 3.5 , 5.5] \n",
    "prices = [9.1 , 5.9 , 4.6 , 6.7]\n",
    "\n",
    "dataset = pd . DataFrame ({\n",
    "    'areas ': areas ,\n",
    "    'prices': prices\n",
    "})\n"
   ]
  },
  {
   "cell_type": "markdown",
   "metadata": {},
   "source": [
    "# Add model"
   ]
  },
  {
   "cell_type": "code",
   "execution_count": 21,
   "metadata": {},
   "outputs": [],
   "source": [
    "# set up model\n",
    "def predict(x,w,b):\n",
    "    return w*x+b\n",
    "def gradient(y_hat,y,x):\n",
    "    dw = 2*(y_hat-y)*x\n",
    "    db = 2*(y_hat-y)\n",
    "    \n",
    "    return {'dw':dw,'db':db}\n",
    "def update_weight(w,b,dw,db,lr=1e-3):\n",
    "    w_new = w-lr*dw\n",
    "    b_new = b - lr*db\n",
    "    return {'w':w_new,'b':b_new}\n",
    "\n",
    "    "
   ]
  },
  {
   "cell_type": "markdown",
   "metadata": {},
   "source": [
    "# Training\n"
   ]
  },
  {
   "cell_type": "code",
   "execution_count": 22,
   "metadata": {},
   "outputs": [
    {
     "name": "stderr",
     "output_type": "stream",
     "text": [
      "C:\\Users\\Admin\\AppData\\Local\\Temp\\ipykernel_12212\\3918350031.py:25: RuntimeWarning: overflow encountered in scalar multiply\n",
      "  loss = ( y_hat - y ) *( y_hat - y ) / 2.0\n",
      "C:\\Users\\Admin\\AppData\\Local\\Temp\\ipykernel_12212\\4214241593.py:11: RuntimeWarning: overflow encountered in scalar multiply\n",
      "  b_new = b - lr*db\n",
      "C:\\Users\\Admin\\AppData\\Local\\Temp\\ipykernel_12212\\4214241593.py:3: RuntimeWarning: invalid value encountered in scalar add\n",
      "  return w*x+b\n"
     ]
    },
    {
     "data": {
      "text/html": [],
      "text/plain": [
       "<IPython.core.display.HTML object>"
      ]
     },
     "metadata": {},
     "output_type": "display_data"
    },
    {
     "data": {
      "text/html": [
       "<br>    <style><br>        .wandb-row {<br>            display: flex;<br>            flex-direction: row;<br>            flex-wrap: wrap;<br>            justify-content: flex-start;<br>            width: 100%;<br>        }<br>        .wandb-col {<br>            display: flex;<br>            flex-direction: column;<br>            flex-basis: 100%;<br>            flex: 1;<br>            padding: 10px;<br>        }<br>    </style><br><div class=\"wandb-row\"><div class=\"wandb-col\"><h3>Run history:</h3><br/><table class=\"wandb\"><tr><td> loss </td><td>▁▁▁█                                    </td></tr></table><br/></div><div class=\"wandb-col\"><h3>Run summary:</h3><br/><table class=\"wandb\"><tr><td> loss </td><td>nan</td></tr></table><br/></div></div>"
      ],
      "text/plain": [
       "<IPython.core.display.HTML object>"
      ]
     },
     "metadata": {},
     "output_type": "display_data"
    },
    {
     "data": {
      "text/html": [
       " View run <strong style=\"color:#cdcd00\">astral-serenity-3</strong> at: <a href='https://wandb.ai/nvq270403-h-c-vi-n-c-ng-ngh-b-u-ch-nh-vi-n-th-ng/demo%20-%20linear%20-%20regression%20/runs/17hp6phc' target=\"_blank\">https://wandb.ai/nvq270403-h-c-vi-n-c-ng-ngh-b-u-ch-nh-vi-n-th-ng/demo%20-%20linear%20-%20regression%20/runs/17hp6phc</a><br> View project at: <a href='https://wandb.ai/nvq270403-h-c-vi-n-c-ng-ngh-b-u-ch-nh-vi-n-th-ng/demo%20-%20linear%20-%20regression%20' target=\"_blank\">https://wandb.ai/nvq270403-h-c-vi-n-c-ng-ngh-b-u-ch-nh-vi-n-th-ng/demo%20-%20linear%20-%20regression%20</a><br>Synced 5 W&B file(s), 2 media file(s), 4 artifact file(s) and 0 other file(s)"
      ],
      "text/plain": [
       "<IPython.core.display.HTML object>"
      ]
     },
     "metadata": {},
     "output_type": "display_data"
    },
    {
     "data": {
      "text/html": [
       "Find logs at: <code>.\\wandb\\run-20250311_174019-17hp6phc\\logs</code>"
      ],
      "text/plain": [
       "<IPython.core.display.HTML object>"
      ]
     },
     "metadata": {},
     "output_type": "display_data"
    }
   ],
   "source": [
    "b = 0.04\n",
    "w = -0.34\n",
    "lr = 1e-2\n",
    "epochs = 10\n",
    "wandb.init(\n",
    "    project =\"demo - linear - regression \",\n",
    "    config={\n",
    "        'learning_rate':lr,\n",
    "        'epochs':epochs\n",
    "    },\n",
    "\n",
    ")\n",
    "wandb . run . log ({\" Dataset \" : wandb . Table ( dataframe = dataset ) })\n",
    "X_train = dataset ['areas ']\n",
    "Y_train = dataset['prices']\n",
    "N = len(X_train)\n",
    "losses = []\n",
    "\n",
    "for epoch in range(epochs):\n",
    "    for i in range(N):\n",
    "        x = X_train[i]\n",
    "        y = Y_train[i]\n",
    "        \n",
    "        y_hat = predict(x,w,b)\n",
    "        loss = ( y_hat - y ) *( y_hat - y ) / 2.0\n",
    "        wandb . log ({\" loss \": loss })\n",
    "        params =  gradient ( y_hat , y , x )\n",
    "        dw , db = params['dw'],params['db']\n",
    "        new_param = update_weight (w , b , lr , dw , db )\n",
    "        w = new_param['w']\n",
    "        b = new_param['b']\n",
    "\n",
    "wandb . finish ()\n",
    "\n",
    "\n",
    "        "
   ]
  },
  {
   "cell_type": "code",
   "execution_count": null,
   "metadata": {},
   "outputs": [],
   "source": [
    "dataset = pd.read_csv('advertising.csv')"
   ]
  },
  {
   "cell_type": "code",
   "execution_count": null,
   "metadata": {},
   "outputs": [],
   "source": []
  },
  {
   "cell_type": "code",
   "execution_count": null,
   "metadata": {},
   "outputs": [],
   "source": []
  },
  {
   "cell_type": "code",
   "execution_count": null,
   "metadata": {},
   "outputs": [],
   "source": []
  }
 ],
 "metadata": {
  "kernelspec": {
   "display_name": "aio_env_0703",
   "language": "python",
   "name": "python3"
  },
  "language_info": {
   "codemirror_mode": {
    "name": "ipython",
    "version": 3
   },
   "file_extension": ".py",
   "mimetype": "text/x-python",
   "name": "python",
   "nbconvert_exporter": "python",
   "pygments_lexer": "ipython3",
   "version": "3.12.9"
  }
 },
 "nbformat": 4,
 "nbformat_minor": 2
}
