{
 "cells": [
  {
   "cell_type": "code",
   "execution_count": 1,
   "metadata": {},
   "outputs": [],
   "source": [
    "import numpy as np\n"
   ]
  },
  {
   "cell_type": "code",
   "execution_count": null,
   "metadata": {},
   "outputs": [
    {
     "name": "stdout",
     "output_type": "stream",
     "text": [
      " Gram Matrix :\n",
      " [[0.33432857 0.2207897  0.27598961]\n",
      " [0.2207897  0.19580158 0.19452994]\n",
      " [0.27598961 0.19452994 0.32603015]]\n"
     ]
    }
   ],
   "source": [
    "\n",
    "def compute_gram_matrix ( feature_map : np . ndarray ) -> np . ndarray :\n",
    "    \"\"\"\n",
    "    Tính Gram Matrix từ feature map .\n",
    "    Args :\n",
    "        feature_map (np. ndarray ): Ma trận đặc trưng có kích thước (C, H, W).\n",
    "    Returns :\n",
    "        np. ndarray : Gram Matrix có kích thước (C, C).\n",
    "    \"\"\"\n",
    "    # Lấy kích thước đầu vào\n",
    "    C , H , W = feature_map . shape\n",
    "    # Chuyển đổi ma trận về dạng (C, H*W)\n",
    "    F = feature_map . reshape (C , H * W )\n",
    "    # Tính Gram Matrix G = F @ F.T\n",
    "    G = np . dot (F , F . T )\n",
    "    # Chuẩn hóa bằng số điểm ảnh\n",
    "    G /= ( H * W )\n",
    "    return G\n",
    "\n",
    "# Tạo dữ liệu giả lập với kích thước (3 , 4 , 4)\n",
    "np . random . seed (42)\n",
    "feature_map = np . random . rand (3 , 4 , 4)\n",
    "\n",
    "# Tính Gram Matrix\n",
    "gram_matrix = compute_gram_matrix ( feature_map )\n",
    "\n",
    "# In kết quả\n",
    "print (\" Gram Matrix :\\n\", gram_matrix )"
   ]
  },
  {
   "cell_type": "code",
   "execution_count": 3,
   "metadata": {},
   "outputs": [
    {
     "name": "stdout",
     "output_type": "stream",
     "text": [
      "Requirement already satisfied: torch in c:\\users\\admin\\anaconda3\\envs\\aio_env_0703\\lib\\site-packages (2.6.0)\n",
      "Requirement already satisfied: filelock in c:\\users\\admin\\anaconda3\\envs\\aio_env_0703\\lib\\site-packages (from torch) (3.17.0)\n",
      "Requirement already satisfied: typing-extensions>=4.10.0 in c:\\users\\admin\\anaconda3\\envs\\aio_env_0703\\lib\\site-packages (from torch) (4.12.2)\n",
      "Requirement already satisfied: networkx in c:\\users\\admin\\anaconda3\\envs\\aio_env_0703\\lib\\site-packages (from torch) (3.4.2)\n",
      "Requirement already satisfied: jinja2 in c:\\users\\admin\\anaconda3\\envs\\aio_env_0703\\lib\\site-packages (from torch) (3.1.6)\n",
      "Requirement already satisfied: fsspec in c:\\users\\admin\\anaconda3\\envs\\aio_env_0703\\lib\\site-packages (from torch) (2025.3.0)\n",
      "Requirement already satisfied: setuptools in c:\\users\\admin\\anaconda3\\envs\\aio_env_0703\\lib\\site-packages (from torch) (75.8.0)\n",
      "Requirement already satisfied: sympy==1.13.1 in c:\\users\\admin\\anaconda3\\envs\\aio_env_0703\\lib\\site-packages (from torch) (1.13.1)\n",
      "Requirement already satisfied: mpmath<1.4,>=1.1.0 in c:\\users\\admin\\anaconda3\\envs\\aio_env_0703\\lib\\site-packages (from sympy==1.13.1->torch) (1.3.0)\n",
      "Requirement already satisfied: MarkupSafe>=2.0 in c:\\users\\admin\\anaconda3\\envs\\aio_env_0703\\lib\\site-packages (from jinja2->torch) (3.0.2)\n"
     ]
    }
   ],
   "source": [
    "!pip install torch"
   ]
  },
  {
   "cell_type": "code",
   "execution_count": 4,
   "metadata": {},
   "outputs": [
    {
     "name": "stderr",
     "output_type": "stream",
     "text": [
      "<>:5: SyntaxWarning: invalid escape sequence '\\ '\n",
      "<>:5: SyntaxWarning: invalid escape sequence '\\ '\n",
      "C:\\Users\\Admin\\AppData\\Local\\Temp\\ipykernel_15544\\3659900989.py:5: SyntaxWarning: invalid escape sequence '\\ '\n",
      "  print (\"\\ nGram Matrix PyTorch :\\n\", gram_matrix_torch . numpy () )\n"
     ]
    },
    {
     "name": "stdout",
     "output_type": "stream",
     "text": [
      "\\ nGram Matrix PyTorch :\n",
      " [[0.33432856 0.2207897  0.2759896 ]\n",
      " [0.2207897  0.19580159 0.19452995]\n",
      " [0.2759896  0.19452995 0.32603014]]\n"
     ]
    }
   ],
   "source": [
    "import torch\n",
    "feature_map_torch = torch . tensor ( feature_map , dtype = torch . float32 )\n",
    "F_torch = feature_map_torch . view (3 , -1)\n",
    "gram_matrix_torch = torch . mm ( F_torch , F_torch . t () ) / (4 * 4)\n",
    "print (\"\\ nGram Matrix PyTorch :\\n\", gram_matrix_torch . numpy () )"
   ]
  },
  {
   "cell_type": "code",
   "execution_count": null,
   "metadata": {},
   "outputs": [
    {
     "name": "stdout",
     "output_type": "stream",
     "text": [
      "[[  7.5  17.5  27.5]\n",
      " [ 17.5  43.5  69.5]\n",
      " [ 27.5  69.5 111.5]]\n"
     ]
    }
   ],
   "source": [
    "import numpy as np\n",
    "def compute_gram_matrix(feature_map: np.ndarray) -> np.ndarray:\n",
    "    \"\"\"\n",
    "    Tính toán Gram matrix từ một feature map.\n",
    "    Args:\n",
    "        feature_map (np.ndarray): Feature map có kích thước (C, H, W),\n",
    "                                 trong đó C là số kênh, H là chiều cao và W là chiều rộng.\n",
    "    Returns:\n",
    "        np.ndarray: Gram matrix có kích thước (C, C).\n",
    "    \"\"\"\n",
    "    C, H, W = feature_map.shape\n",
    "    F = feature_map.reshape(C, H * W)\n",
    "    G = np.dot(F, F.T)\n",
    "    G = G.astype(np.float64)  # Ép kiểu mảng G sang float64\n",
    "    G /= float(H * W)  # Chuẩn hóa bằng cách chia cho số lượng phần tử trong mỗi feature map\n",
    "    return G\n",
    "# Feature Map đầu vào cố định\n",
    "feature_map = np.array([\n",
    "    [[1, 2], [3, 4]],  # Kênh 1\n",
    "    [[5, 6], [7, 8]],  # Kênh 2\n",
    "    [[9, 10], [11, 12]]  # Kênh 3\n",
    "])\n",
    "gram_matrix = compute_gram_matrix(feature_map)\n",
    "print(gram_matrix)"
   ]
  },
  {
   "cell_type": "code",
   "execution_count": 14,
   "metadata": {},
   "outputs": [
    {
     "name": "stdout",
     "output_type": "stream",
     "text": [
      " Similarity Score : 0.6741245785155123\n"
     ]
    }
   ],
   "source": [
    "import numpy as np\n",
    "\n",
    "def compute_similarity ( gram1 : np . ndarray , gram2 : np . ndarray ) -> float :\n",
    "    \"\"\"\n",
    "    Tính độ tương đồng giữa hai Gram Matrix .\n",
    "    Args :\n",
    "        gram1 (np. ndarray ): Gram Matrix ảnh 1.\n",
    "        gram2 (np. ndarray ): Gram Matrix ảnh 2.\n",
    "    Returns :\n",
    "        float : Độ tương đồng trong khoảng [0 ,1].\n",
    "    \"\"\"\n",
    "    # Your code here #\n",
    "    G1_G2 = gram1*gram2\n",
    "    s1 = np.sum(G1_G2)\n",
    "    s2 = (\n",
    "        np.sqrt(np.sum(np.square(gram1)))*\n",
    "        np.sqrt(np.sum(np.square(gram2))))\n",
    "    return s1/s2\n",
    "    \n",
    "    \n",
    "    \n",
    "    \n",
    "# Feature Map của hai ảnh (Cần di chuyển ra ngoài hàm nếu muốn tái sử dụng hàm này)\n",
    "feature_map1 = np . array ([\n",
    "    [[1 , 2] , [3 , 4]] ,\n",
    "    [[5 , 6] , [7 , 8]] ,\n",
    "    [[9 , 10] , [11 , 12]]\n",
    "])\n",
    "\n",
    "feature_map2 = np . array ([\n",
    "    [[2 , 4] , [6 , 8]] ,\n",
    "    [[1 , 3] , [5 , 7]] ,\n",
    "    [[0 , 2] , [4 , 6]]\n",
    "])\n",
    "\n",
    "# Tính Gram Matrix của hai ảnh\n",
    "gram1 = compute_gram_matrix ( feature_map1 )\n",
    "gram2 = compute_gram_matrix ( feature_map2 )\n",
    "similarity = compute_similarity ( gram1 , gram2 )\n",
    "print (\" Similarity Score :\", similarity )\n",
    "\n"
   ]
  },
  {
   "cell_type": "code",
   "execution_count": null,
   "metadata": {},
   "outputs": [],
   "source": []
  },
  {
   "cell_type": "code",
   "execution_count": null,
   "metadata": {},
   "outputs": [],
   "source": []
  },
  {
   "cell_type": "code",
   "execution_count": null,
   "metadata": {},
   "outputs": [],
   "source": []
  },
  {
   "cell_type": "code",
   "execution_count": null,
   "metadata": {},
   "outputs": [],
   "source": []
  },
  {
   "cell_type": "code",
   "execution_count": null,
   "metadata": {},
   "outputs": [],
   "source": []
  },
  {
   "cell_type": "code",
   "execution_count": null,
   "metadata": {},
   "outputs": [],
   "source": []
  },
  {
   "cell_type": "code",
   "execution_count": null,
   "metadata": {},
   "outputs": [],
   "source": []
  },
  {
   "cell_type": "code",
   "execution_count": null,
   "metadata": {},
   "outputs": [],
   "source": []
  },
  {
   "cell_type": "code",
   "execution_count": null,
   "metadata": {},
   "outputs": [],
   "source": []
  },
  {
   "cell_type": "code",
   "execution_count": null,
   "metadata": {},
   "outputs": [],
   "source": []
  }
 ],
 "metadata": {
  "kernelspec": {
   "display_name": "aio_env_0703",
   "language": "python",
   "name": "python3"
  },
  "language_info": {
   "codemirror_mode": {
    "name": "ipython",
    "version": 3
   },
   "file_extension": ".py",
   "mimetype": "text/x-python",
   "name": "python",
   "nbconvert_exporter": "python",
   "pygments_lexer": "ipython3",
   "version": "3.12.9"
  }
 },
 "nbformat": 4,
 "nbformat_minor": 2
}
