{
 "cells": [
  {
   "cell_type": "code",
   "execution_count": 1,
   "metadata": {},
   "outputs": [],
   "source": [
    "class Animal:\n",
    "    def __init__(self,name):\n",
    "        self.name = name\n",
    "    def make_sound(self):\n",
    "        return 'some generic sound'\n",
    "    "
   ]
  },
  {
   "cell_type": "code",
   "execution_count": 2,
   "metadata": {},
   "outputs": [
    {
     "data": {
      "text/plain": [
       "'some generic sound'"
      ]
     },
     "execution_count": 2,
     "metadata": {},
     "output_type": "execute_result"
    }
   ],
   "source": [
    "dog = Animal('Mic')\n",
    "dog.make_sound()"
   ]
  },
  {
   "cell_type": "code",
   "execution_count": 3,
   "metadata": {},
   "outputs": [
    {
     "data": {
      "text/plain": [
       "'Mic'"
      ]
     },
     "execution_count": 3,
     "metadata": {},
     "output_type": "execute_result"
    }
   ],
   "source": [
    "dog.name"
   ]
  },
  {
   "cell_type": "markdown",
   "metadata": {},
   "source": [
    "# Encapsulation\n"
   ]
  },
  {
   "cell_type": "code",
   "execution_count": 5,
   "metadata": {},
   "outputs": [],
   "source": [
    "class BankAccount:\n",
    "    def __init__(self, userName, passWord):\n",
    "        self.__userName = userName\n",
    "        self.__passWord = passWord\n",
    "\n",
    "    def setUserName(self, name):\n",
    "        self.__userName = name\n",
    "\n",
    "    def setPassword(self, password):\n",
    "        self.__passWord = password\n",
    "\n",
    "    def getUserName(self):\n",
    "        return self.__userName\n",
    "\n",
    "    def getPassword(self):\n",
    "        return self.__passWord"
   ]
  },
  {
   "cell_type": "code",
   "execution_count": 6,
   "metadata": {},
   "outputs": [
    {
     "ename": "AttributeError",
     "evalue": "'BankAccount' object has no attribute '__userName'",
     "output_type": "error",
     "traceback": [
      "\u001b[31m---------------------------------------------------------------------------\u001b[39m",
      "\u001b[31mAttributeError\u001b[39m                            Traceback (most recent call last)",
      "\u001b[36mCell\u001b[39m\u001b[36m \u001b[39m\u001b[32mIn[6]\u001b[39m\u001b[32m, line 2\u001b[39m\n\u001b[32m      1\u001b[39m user1 = BankAccount(\u001b[33m'\u001b[39m\u001b[33mQuang\u001b[39m\u001b[33m'\u001b[39m,\u001b[33m'\u001b[39m\u001b[33m123\u001b[39m\u001b[33m'\u001b[39m)\n\u001b[32m----> \u001b[39m\u001b[32m2\u001b[39m \u001b[43muser1\u001b[49m\u001b[43m.\u001b[49m\u001b[43m__userName\u001b[49m\n",
      "\u001b[31mAttributeError\u001b[39m: 'BankAccount' object has no attribute '__userName'"
     ]
    }
   ],
   "source": [
    "user1 = BankAccount('Quang','123')\n",
    "user1.__userName"
   ]
  },
  {
   "cell_type": "code",
   "execution_count": 9,
   "metadata": {},
   "outputs": [
    {
     "name": "stdout",
     "output_type": "stream",
     "text": [
      "Quang\n"
     ]
    }
   ],
   "source": [
    "print(user1.getUserName())"
   ]
  },
  {
   "cell_type": "markdown",
   "metadata": {},
   "source": [
    "# Inheritance\n"
   ]
  },
  {
   "cell_type": "code",
   "execution_count": 10,
   "metadata": {},
   "outputs": [
    {
     "data": {
      "text/plain": [
       "'Go,Go'"
      ]
     },
     "execution_count": 10,
     "metadata": {},
     "output_type": "execute_result"
    }
   ],
   "source": [
    "class Dog(Animal):\n",
    "    def make_sound(self):\n",
    "        return 'Go,Go'\n",
    "dog1 = Dog('mic')\n",
    "dog1.make_sound()"
   ]
  },
  {
   "cell_type": "markdown",
   "metadata": {},
   "source": [
    "# Polimorphism\n"
   ]
  },
  {
   "cell_type": "code",
   "execution_count": 11,
   "metadata": {},
   "outputs": [
    {
     "name": "stdout",
     "output_type": "stream",
     "text": [
      "mic says Go,Go\n",
      "Muop says Meo,Meo\n"
     ]
    }
   ],
   "source": [
    "class Cat(Animal):\n",
    "    def make_sound(self):\n",
    "        return 'Meo,Meo'\n",
    "    \n",
    "cat1 = Cat('Muop')\n",
    "animals = [dog1,cat1]\n",
    "for ani in animals:\n",
    "    print(f'{ani.name} says {ani.make_sound()}')"
   ]
  },
  {
   "cell_type": "markdown",
   "metadata": {},
   "source": [
    "# Abtraction"
   ]
  },
  {
   "cell_type": "code",
   "execution_count": 12,
   "metadata": {},
   "outputs": [],
   "source": [
    "from abc import ABC, abstractmethod\n",
    "\n",
    "class Vehicle(ABC):\n",
    "    @abstractmethod\n",
    "    def move(self):\n",
    "        pass\n",
    "\n"
   ]
  },
  {
   "cell_type": "code",
   "execution_count": 13,
   "metadata": {},
   "outputs": [
    {
     "name": "stdout",
     "output_type": "stream",
     "text": [
      "Car's comming\n",
      "Bike's comming\n"
     ]
    }
   ],
   "source": [
    "class Car(Vehicle):\n",
    "    def move(self):\n",
    "        return '''Car's comming'''\n",
    "class Bike(Vehicle):\n",
    "    def move(self):\n",
    "        return '''Bike's comming'''\n",
    "\n",
    "car1 = Car()\n",
    "bike1 = Bike()\n",
    "print(car1.move())\n",
    "print(bike1.move())\n",
    "    "
   ]
  },
  {
   "cell_type": "code",
   "execution_count": null,
   "metadata": {},
   "outputs": [],
   "source": []
  }
 ],
 "metadata": {
  "kernelspec": {
   "display_name": "aio_env_0703",
   "language": "python",
   "name": "python3"
  },
  "language_info": {
   "codemirror_mode": {
    "name": "ipython",
    "version": 3
   },
   "file_extension": ".py",
   "mimetype": "text/x-python",
   "name": "python",
   "nbconvert_exporter": "python",
   "pygments_lexer": "ipython3",
   "version": "3.12.9"
  }
 },
 "nbformat": 4,
 "nbformat_minor": 2
}
