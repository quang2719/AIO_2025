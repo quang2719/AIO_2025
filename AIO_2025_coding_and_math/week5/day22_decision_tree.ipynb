{
 "cells": [
  {
   "cell_type": "code",
   "execution_count": 1,
   "metadata": {},
   "outputs": [],
   "source": [
    "import numpy as np\n",
    "\n",
    "def gini_index(groups, classes):\n",
    "    total_sample = float(sum([len(group) for group in groups]))\n",
    "    gini = 0.0\n",
    "    for group in groups:\n",
    "        size = float(len(group))\n",
    "        if size == 0:\n",
    "            continue\n",
    "        score = sum([\n",
    "            (row[-1]==c) for row in group for c in classes\n",
    "        ])/size\n",
    "        gini += (1.0 - sum([score**2 for c in classes])) * (size/total_sample)\n",
    "        return gini"
   ]
  },
  {
   "cell_type": "code",
   "execution_count": 2,
   "metadata": {},
   "outputs": [],
   "source": [
    "dataset = [\n",
    "    [2.8, 'Yes'],\n",
    "    [1.2, 'No'],\n",
    "    [3.6, 'Yes'],\n",
    "    [4.5, 'No'],\n",
    "    [5.1, 'Yes']\n",
    "]"
   ]
  },
  {
   "cell_type": "code",
   "execution_count": 3,
   "metadata": {},
   "outputs": [],
   "source": [
    "def split_data(dataset, feature_index, threshold):\n",
    "    left = [row for row in dataset if row[feature_index] < threshold]\n",
    "    right = [row for row in dataset if row[feature_index] >= threshold]\n",
    "    return left,right\n"
   ]
  },
  {
   "cell_type": "code",
   "execution_count": 4,
   "metadata": {},
   "outputs": [
    {
     "name": "stdout",
     "output_type": "stream",
     "text": [
      "Gini Index: -0.4000\n"
     ]
    }
   ],
   "source": [
    "groups = split_data(dataset,0,3.0)\n",
    "classes = ['Yes','No']\n",
    "gini = gini_index(groups,classes)\n",
    "print(f'Gini Index: {gini:.4f}')"
   ]
  },
  {
   "cell_type": "code",
   "execution_count": 5,
   "metadata": {},
   "outputs": [],
   "source": [
    "class TreeNode:\n",
    "    def __init__(self, feature_index=None, threshold=None, left=None, right=None, label=None):\n",
    "        self.feature_index = feature_index\n",
    "        self.threshold = threshold\n",
    "        self.left = left\n",
    "        self.right = right\n",
    "        self.label = label\n",
    "class DecisionTree:\n",
    "    def __init__(self, max_depth = 3):\n",
    "        self.max_depth = max_depth\n",
    "        self.root = None\n",
    "    def gini_index(self, groups, classes):\n",
    "        total_samples = sum([len(group) for group in groups])\n",
    "        gini = 0.0\n",
    "        for group in groups:\n",
    "            size = len(group)\n",
    "            if size == 0:\n",
    "                continue\n",
    "            score = 0.0\n",
    "            for class_val in classes:\n",
    "                proportion = [row[-1] for row in group].count(class_val)/size\n",
    "                score += proportion**2\n",
    "            gini += (1.0 -score) *(size/total_samples)\n",
    "        return gini\n",
    "\n",
    "    def split_data(self,dataset, feature_index,threshold):\n",
    "        left = [row for row in dataset if row[feature_index] < threshold]\n",
    "        right = [row for row in dataset if row[feature_index] >= threshold]\n",
    "        return left,right\n",
    "    def best_split(self, dataset):\n",
    "        class_values = list(set(row[-1] for row in dataset))\n",
    "        best_index, best_threshold, best_score, best_groups = None,None,float('inf'), None\n",
    "        for index in range(len(dataset[0]) -1):\n",
    "            for row in dataset:\n",
    "                groups = self.split_data(dataset, index, row[index])\n",
    "                gini = self.gini_index(groups, class_values)\n",
    "                if gini < best_score:\n",
    "                    best_index, best_threshold, best_score, best_groups = index,row[index],gini, groups\n",
    "        return best_index, best_threshold, best_groups\n",
    "    def build_tree(self, dataset, depth = 0):\n",
    "        class_values = [row[-1] for row in dataset]\n",
    "        if len(set(class_values)) == 1 or depth >= self.max_depth:\n",
    "            return TreeNode(label = max(set(class_values), key  = class_values.count))\n",
    "        \n",
    "        feature_index , threshold, (left,right) = self.best_split(dataset)\n",
    "        if not left or not right:\n",
    "            return TreeNode(label = max(set(class_values), key = class_values.count))\n",
    "        \n",
    "        left_node = self.build_tree(left, depth+1)\n",
    "        right_node = self.build_tree(right,depth+1)\n",
    "        \n",
    "        return TreeNode(feature_index, threshold, left_node, right_node)\n",
    "    def fit(self, dataset):\n",
    "        self.root = self.build_tree(dataset)\n",
    "    def print_tree(self, node = None, depth = 0):\n",
    "        if node is None:\n",
    "            node = self.root\n",
    "        if node.label is not None:\n",
    "            print(f\"{' '*depth} [Leaf] Label: {node.label}\")\n",
    "        else:\n",
    "            print(f\"{' '*depth} [Node] Feature: {node.feature_index} <= {node.threshold}\")\n",
    "            self.print_tree(node.left, depth+1)\n",
    "            self.print_tree(node.right, depth+1)"
   ]
  },
  {
   "cell_type": "code",
   "execution_count": 6,
   "metadata": {},
   "outputs": [],
   "source": [
    "dataset = [\n",
    "    [2.8, 'Yes'],\n",
    "    [1.2, 'No'],\n",
    "    [3.6, 'Yes'],\n",
    "    [4.5, 'No'],\n",
    "    [5.1, 'Yes']\n",
    "]"
   ]
  },
  {
   "cell_type": "code",
   "execution_count": 7,
   "metadata": {},
   "outputs": [
    {
     "name": "stdout",
     "output_type": "stream",
     "text": [
      "Decision tree:\n",
      " [Node] Feature: 0 <= 2.8\n",
      "  [Leaf] Label: No\n",
      "  [Node] Feature: 0 <= 4.5\n",
      "   [Leaf] Label: Yes\n",
      "   [Node] Feature: 0 <= 5.1\n",
      "    [Leaf] Label: No\n",
      "    [Leaf] Label: Yes\n"
     ]
    }
   ],
   "source": [
    "tree = DecisionTree ( max_depth =3)\n",
    "tree . fit ( dataset )\n",
    "\n",
    "print('Decision tree:')\n",
    "tree.print_tree()"
   ]
  },
  {
   "cell_type": "code",
   "execution_count": null,
   "metadata": {},
   "outputs": [],
   "source": []
  },
  {
   "cell_type": "code",
   "execution_count": null,
   "metadata": {},
   "outputs": [],
   "source": []
  }
 ],
 "metadata": {
  "kernelspec": {
   "display_name": "aio_env_0703",
   "language": "python",
   "name": "python3"
  },
  "language_info": {
   "codemirror_mode": {
    "name": "ipython",
    "version": 3
   },
   "file_extension": ".py",
   "mimetype": "text/x-python",
   "name": "python",
   "nbconvert_exporter": "python",
   "pygments_lexer": "ipython3",
   "version": "3.12.9"
  }
 },
 "nbformat": 4,
 "nbformat_minor": 2
}
