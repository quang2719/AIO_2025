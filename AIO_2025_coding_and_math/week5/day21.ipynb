{
 "cells": [
  {
   "cell_type": "code",
   "execution_count": 3,
   "metadata": {},
   "outputs": [],
   "source": [
    "from collections import deque"
   ]
  },
  {
   "cell_type": "code",
   "execution_count": 1,
   "metadata": {},
   "outputs": [],
   "source": [
    "class TreeNode:\n",
    "    def __init__(self, value):\n",
    "        self.value = value\n",
    "        self.children = []\n",
    "    def add_child(self, child):\n",
    "        self.children.append(child)\n",
    "    def remove_child(self, child):\n",
    "       self.children = [c for c in self.children if c != child]\n",
    "    def print_tree(self, level =0):\n",
    "        print(' '* (level*4) +'|--' + self.value)\n",
    "        for child in self.children:\n",
    "            child.print_tree(level +1)\n",
    "            "
   ]
  },
  {
   "cell_type": "code",
   "execution_count": 4,
   "metadata": {},
   "outputs": [],
   "source": [
    "class Tree:\n",
    "    def __init__(self,root_value):\n",
    "        self.root = TreeNode(root_value)\n",
    "    def find(self,value,node = None):\n",
    "        if node is None:\n",
    "            node = self.root\n",
    "        if node.value == value:\n",
    "            return node\n",
    "        for child in node.children:\n",
    "            found = self.find(value,child)\n",
    "            if found: return found\n",
    "            \n",
    "        return None\n",
    "    def insert(self, parent_value,child_value):\n",
    "        parent_node = self.find(parent_value)\n",
    "        if parent_node:\n",
    "            parent_node.add_child(TreeNode(child_value))\n",
    "        else:\n",
    "            print(f'Node {parent_value} not exit.' )\n",
    "    def print_tree(self):\n",
    "        self.root.print_tree()\n",
    "    def traverse_bfs(self):\n",
    "        if not self.root:\n",
    "            return\n",
    "        queue = deque([self.root])\n",
    "        while queue:\n",
    "            node = queue.popleft()\n",
    "            print(node.value, end = \" \")\n",
    "            for child in node.children:\n",
    "                queue.append(child)\n",
    "            print()\n",
    "            "
   ]
  },
  {
   "cell_type": "code",
   "execution_count": 6,
   "metadata": {},
   "outputs": [
    {
     "name": "stdout",
     "output_type": "stream",
     "text": [
      "Original tree: \n",
      "|--A\n",
      "    |--B\n",
      "        |--D\n",
      "        |--E\n",
      "    |--C\n",
      "        |--F\n",
      "BFS tree traverse: \n",
      "A \n",
      "B \n",
      "C \n",
      "D \n",
      "E \n",
      "F \n"
     ]
    }
   ],
   "source": [
    "tree = Tree('A')\n",
    "\n",
    "tree.root.add_child(TreeNode('B'))\n",
    "tree.root.add_child(TreeNode('C'))\n",
    "\n",
    "tree.root.children[0].add_child(TreeNode('D'))\n",
    "tree.root.children[0].add_child(TreeNode('E'))\n",
    "tree.root.children[1].add_child(TreeNode('F'))\n",
    "\n",
    "print('Original tree: ')\n",
    "tree.root.print_tree()\n",
    "\n",
    "print('BFS tree traverse: ')\n",
    "tree.traverse_bfs()"
   ]
  },
  {
   "cell_type": "code",
   "execution_count": 8,
   "metadata": {},
   "outputs": [
    {
     "name": "stdout",
     "output_type": "stream",
     "text": [
      "Original tree: \n",
      "|--Company\n",
      "    |--HR\n",
      "        |--Alice\n",
      "        |--Bob\n",
      "    |--IT\n",
      "        |--Charlie\n",
      "        |--David\n",
      "    |--Finance\n"
     ]
    }
   ],
   "source": [
    "tree = Tree('Company')\n",
    "\n",
    "tree.root.add_child(TreeNode('HR'))\n",
    "tree.root.add_child(TreeNode('IT'))\n",
    "tree.root.add_child(TreeNode('Finance'))\n",
    "\n",
    "tree.root.children[0].add_child(TreeNode('Alice'))\n",
    "tree.root.children[0].add_child(TreeNode('Bob'))\n",
    "tree.root.children[1].add_child(TreeNode('Charlie'))\n",
    "tree.root.children[1].add_child(TreeNode('David'))\n",
    "\n",
    "print('Original tree: ')\n",
    "tree.root.print_tree()\n"
   ]
  },
  {
   "cell_type": "code",
   "execution_count": 28,
   "metadata": {},
   "outputs": [],
   "source": [
    "class Tree:\n",
    "    def __init__(self,root_value):\n",
    "        self.root = TreeNode(root_value)\n",
    "    def find(self,value,node = None):\n",
    "        if node is None:\n",
    "            node = self.root\n",
    "        if node.value == value:\n",
    "            return node\n",
    "        for child in node.children:\n",
    "            found = self.find(value,child)\n",
    "            if found: return found\n",
    "            \n",
    "        return None\n",
    "    def insert(self, parent_value,child_value):\n",
    "        parent_node = self.find(parent_value)\n",
    "        if parent_node:\n",
    "            parent_node.add_child(TreeNode(child_value))\n",
    "        else:\n",
    "            print(f'Node {parent_value} not exit.' )\n",
    "    def print_tree(self):\n",
    "        self.root.print_tree()\n",
    "    def traverse_bfs(self):\n",
    "        if not self.root:\n",
    "            return\n",
    "        queue = deque([self.root])\n",
    "        while queue:\n",
    "            node = queue.popleft()\n",
    "            print(node.value, end = \" \")\n",
    "            for child in node.children:\n",
    "                queue.append(child)\n",
    "            print()\n",
    "    def search_bfs(self,value):\n",
    "        queue = [self.root]\n",
    "        while queue:\n",
    "            node = queue.pop(0)\n",
    "            if node.value == value:\n",
    "                return True\n",
    "            for c in node.children:\n",
    "                queue.append(c)\n",
    "        return False\n",
    "    def take_height(self):\n",
    "        if not self.root:\n",
    "            return 0\n",
    "        cur_height = 1\n",
    "        queue = [(self.root,cur_height)]\n",
    "        max_height = 0\n",
    "        while queue:\n",
    "            node,h = queue.pop(0)\n",
    "            max_height = max(max_height, h)\n",
    "            for chil in node.children:\n",
    "                queue.append((chil,h+1))\n",
    "        return max_height\n",
    "            \n",
    "    \n",
    "        "
   ]
  },
  {
   "cell_type": "code",
   "execution_count": 29,
   "metadata": {},
   "outputs": [
    {
     "name": "stdout",
     "output_type": "stream",
     "text": [
      "Original tree: \n",
      "|--Company\n",
      "    |--HR\n",
      "        |--Alice\n",
      "        |--Bob\n",
      "    |--IT\n",
      "        |--Charlie\n",
      "        |--David\n",
      "    |--Finance\n"
     ]
    }
   ],
   "source": [
    "tree = Tree('Company')\n",
    "\n",
    "tree.root.add_child(TreeNode('HR'))\n",
    "tree.root.add_child(TreeNode('IT'))\n",
    "tree.root.add_child(TreeNode('Finance'))\n",
    "\n",
    "tree.root.children[0].add_child(TreeNode('Alice'))\n",
    "tree.root.children[0].add_child(TreeNode('Bob'))\n",
    "tree.root.children[1].add_child(TreeNode('Charlie'))\n",
    "tree.root.children[1].add_child(TreeNode('David'))\n",
    "\n",
    "print('Original tree: ')\n",
    "tree.root.print_tree()\n"
   ]
  },
  {
   "cell_type": "code",
   "execution_count": 30,
   "metadata": {},
   "outputs": [
    {
     "name": "stdout",
     "output_type": "stream",
     "text": [
      "True\n",
      "False\n"
     ]
    }
   ],
   "source": [
    "print(tree.search_bfs('Bob'))\n",
    "print(tree.search_bfs('Quang'))"
   ]
  },
  {
   "cell_type": "code",
   "execution_count": 31,
   "metadata": {},
   "outputs": [
    {
     "name": "stdout",
     "output_type": "stream",
     "text": [
      "3\n"
     ]
    }
   ],
   "source": [
    "print(tree.take_height())"
   ]
  },
  {
   "cell_type": "code",
   "execution_count": null,
   "metadata": {},
   "outputs": [],
   "source": []
  },
  {
   "cell_type": "code",
   "execution_count": null,
   "metadata": {},
   "outputs": [],
   "source": []
  }
 ],
 "metadata": {
  "kernelspec": {
   "display_name": "aio_env_0703",
   "language": "python",
   "name": "python3"
  },
  "language_info": {
   "codemirror_mode": {
    "name": "ipython",
    "version": 3
   },
   "file_extension": ".py",
   "mimetype": "text/x-python",
   "name": "python",
   "nbconvert_exporter": "python",
   "pygments_lexer": "ipython3",
   "version": "3.12.9"
  }
 },
 "nbformat": 4,
 "nbformat_minor": 2
}
