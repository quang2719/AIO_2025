{
 "cells": [
  {
   "cell_type": "code",
   "execution_count": 8,
   "metadata": {},
   "outputs": [],
   "source": [
    "import numpy as np"
   ]
  },
  {
   "cell_type": "code",
   "execution_count": 3,
   "metadata": {},
   "outputs": [],
   "source": [
    "corpus = [\"Tôi thích học AI\", \"AI là trí tuệ nhân tạo\", \"AGI là siêu trí tuệ nhân tạo\"] "
   ]
  },
  {
   "cell_type": "code",
   "execution_count": 15,
   "metadata": {},
   "outputs": [],
   "source": [
    "def compute_tf ( doc ) :\n",
    "    n = len(doc.split(\" \"))\n",
    "    fre = {}\n",
    "    for word in doc.split(\" \"):\n",
    "        fre[word] = fre.get(word,0) + 1\n",
    "    for word in fre.keys():\n",
    "        fre[word] = fre[word]/n\n",
    "    return fre\n",
    "def compute_idf ( docs ):\n",
    "    D = len(docs)\n",
    "    idf_t = {}\n",
    "    for doc in docs:\n",
    "        words = set([x for x in doc.split(' ')])\n",
    "        for word in words:\n",
    "            idf_t[word] = idf_t.get(word,0) + 1\n",
    "    for word in idf_t.keys():\n",
    "        idf_t[word] = np.log(D/(1+idf_t[word]))\n",
    "    return idf_t\n",
    "def compute_tf_idf ( tf , idf ) :\n",
    "    doc_fre = tf\n",
    "    idf_t = idf \n",
    "    for i,fre in enumerate(doc_fre):\n",
    "        print(f'Tai lieu {i+1}:')\n",
    "        for word in fre.keys():\n",
    "            print(f'{word}: {fre[word]*idf_t[word]}')\n",
    "        "
   ]
  },
  {
   "cell_type": "code",
   "execution_count": 16,
   "metadata": {},
   "outputs": [
    {
     "name": "stdout",
     "output_type": "stream",
     "text": [
      "[{'Tôi': 0.25, 'thích': 0.25, 'học': 0.25, 'AI': 0.25}, {'AI': 0.16666666666666666, 'là': 0.16666666666666666, 'trí': 0.16666666666666666, 'tuệ': 0.16666666666666666, 'nhân': 0.16666666666666666, 'tạo': 0.16666666666666666}, {'AGI': 0.14285714285714285, 'là': 0.14285714285714285, 'siêu': 0.14285714285714285, 'trí': 0.14285714285714285, 'tuệ': 0.14285714285714285, 'nhân': 0.14285714285714285, 'tạo': 0.14285714285714285}]\n"
     ]
    }
   ],
   "source": [
    "doc_fre = []\n",
    "for doc in corpus:\n",
    "    doc_fre.append(compute_tf(doc))\n",
    "print(doc_fre)"
   ]
  },
  {
   "cell_type": "code",
   "execution_count": 17,
   "metadata": {},
   "outputs": [
    {
     "name": "stdout",
     "output_type": "stream",
     "text": [
      "{'AI': np.float64(0.0), 'học': np.float64(0.4054651081081644), 'Tôi': np.float64(0.4054651081081644), 'thích': np.float64(0.4054651081081644), 'là': np.float64(0.0), 'nhân': np.float64(0.0), 'tạo': np.float64(0.0), 'tuệ': np.float64(0.0), 'trí': np.float64(0.0), 'siêu': np.float64(0.4054651081081644), 'AGI': np.float64(0.4054651081081644)}\n"
     ]
    }
   ],
   "source": [
    "idf_t = compute_idf(corpus)\n",
    "print(idf_t)"
   ]
  },
  {
   "cell_type": "code",
   "execution_count": 18,
   "metadata": {},
   "outputs": [
    {
     "name": "stdout",
     "output_type": "stream",
     "text": [
      "Tai lieu 1:\n",
      "Tôi: 0.1013662770270411\n",
      "thích: 0.1013662770270411\n",
      "học: 0.1013662770270411\n",
      "AI: 0.0\n",
      "Tai lieu 2:\n",
      "AI: 0.0\n",
      "là: 0.0\n",
      "trí: 0.0\n",
      "tuệ: 0.0\n",
      "nhân: 0.0\n",
      "tạo: 0.0\n",
      "Tai lieu 3:\n",
      "AGI: 0.05792358687259491\n",
      "là: 0.0\n",
      "siêu: 0.05792358687259491\n",
      "trí: 0.0\n",
      "tuệ: 0.0\n",
      "nhân: 0.0\n",
      "tạo: 0.0\n"
     ]
    }
   ],
   "source": [
    "compute_tf_idf(doc_fre,idf_t)"
   ]
  },
  {
   "cell_type": "code",
   "execution_count": null,
   "metadata": {},
   "outputs": [],
   "source": []
  },
  {
   "cell_type": "code",
   "execution_count": null,
   "metadata": {},
   "outputs": [],
   "source": []
  },
  {
   "cell_type": "code",
   "execution_count": null,
   "metadata": {},
   "outputs": [],
   "source": []
  },
  {
   "cell_type": "code",
   "execution_count": null,
   "metadata": {},
   "outputs": [],
   "source": []
  },
  {
   "cell_type": "code",
   "execution_count": null,
   "metadata": {},
   "outputs": [],
   "source": []
  }
 ],
 "metadata": {
  "kernelspec": {
   "display_name": "aio_env_0703",
   "language": "python",
   "name": "python3"
  },
  "language_info": {
   "codemirror_mode": {
    "name": "ipython",
    "version": 3
   },
   "file_extension": ".py",
   "mimetype": "text/x-python",
   "name": "python",
   "nbconvert_exporter": "python",
   "pygments_lexer": "ipython3",
   "version": "undefined.undefined.undefined"
  }
 },
 "nbformat": 4,
 "nbformat_minor": 2
}
