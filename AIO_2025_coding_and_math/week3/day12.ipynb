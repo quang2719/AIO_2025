{
 "cells": [
  {
   "cell_type": "code",
   "execution_count": null,
   "metadata": {},
   "outputs": [],
   "source": [
    "def solve_knight_tour ( size_of_cheesboard , start_x , start_y ) : \n",
    "    # Create chessboard\n",
    "    board = [\n",
    "        [ 0 for _ in range ( size_of_cheesboard ) ]\n",
    "        for _ in range (size_of_cheesboard )\n",
    "        ]\n",
    "    cnt = 0\n",
    "def visit(board: list[list],state_x:int,state_y:int,\n",
    "        cnt:int,target:int,res:list):\n",
    "    if cnt == target:\n",
    "        res.append(board)\n",
    "        return \n",
    "        \n",
    "### Your code here ###"
   ]
  },
  {
   "cell_type": "code",
   "execution_count": null,
   "metadata": {},
   "outputs": [],
   "source": []
  },
  {
   "cell_type": "code",
   "execution_count": null,
   "metadata": {},
   "outputs": [],
   "source": []
  },
  {
   "cell_type": "code",
   "execution_count": null,
   "metadata": {},
   "outputs": [],
   "source": []
  },
  {
   "cell_type": "code",
   "execution_count": null,
   "metadata": {},
   "outputs": [],
   "source": []
  },
  {
   "cell_type": "code",
   "execution_count": null,
   "metadata": {},
   "outputs": [],
   "source": []
  },
  {
   "cell_type": "code",
   "execution_count": null,
   "metadata": {},
   "outputs": [],
   "source": []
  }
 ],
 "metadata": {
  "language_info": {
   "name": "python"
  }
 },
 "nbformat": 4,
 "nbformat_minor": 2
}
