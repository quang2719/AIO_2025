{
 "cells": [
  {
   "cell_type": "code",
   "execution_count": null,
   "metadata": {},
   "outputs": [],
   "source": [
    "def solve_knight_tour ( size_of_cheesboard , start_x , start_y ) : \n",
    "    # Create chessboard\n",
    "    board = [\n",
    "        [ 0 for _ in range ( size_of_cheesboard ) ]\n",
    "        for _ in range (size_of_cheesboard )\n",
    "        ]\n",
    "    cnt = 0\n",
    "def visit(board: list[list],state_x:int,\n",
    "          state_y:int,cnt:int,target:int,res:list):\n",
    "    \n",
    "    if cnt == target:\n",
    "        res.append(board)\n",
    "        return \n",
    "    \n",
    "    x,y = state_x,state_y\n",
    "    n = len(board)\n",
    "    next_state = [(x+2,y-1),(x+2,y+1),(x-2,y+1),(x-2,y-1),(x+1,y-2),(x-1,y-2),(x-1,y+2),(x+1,y+2)]\n",
    "    \n",
    "        \n",
    "### Your code here ###"
   ]
  },
  {
   "cell_type": "code",
   "execution_count": null,
   "metadata": {},
   "outputs": [],
   "source": []
  },
  {
   "cell_type": "code",
   "execution_count": null,
   "metadata": {},
   "outputs": [],
   "source": []
  },
  {
   "cell_type": "code",
   "execution_count": null,
   "metadata": {},
   "outputs": [],
   "source": []
  },
  {
   "cell_type": "code",
   "execution_count": null,
   "metadata": {},
   "outputs": [],
   "source": []
  },
  {
   "cell_type": "code",
   "execution_count": null,
   "metadata": {},
   "outputs": [],
   "source": []
  },
  {
   "cell_type": "code",
   "execution_count": null,
   "metadata": {},
   "outputs": [],
   "source": []
  }
 ],
 "metadata": {
  "language_info": {
   "name": "python"
  }
 },
 "nbformat": 4,
 "nbformat_minor": 2
}
