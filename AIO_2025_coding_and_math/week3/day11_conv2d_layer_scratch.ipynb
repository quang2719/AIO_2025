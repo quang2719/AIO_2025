{
 "cells": [
  {
   "cell_type": "markdown",
   "metadata": {},
   "source": [
    "# Convol "
   ]
  },
  {
   "cell_type": "code",
   "execution_count": 41,
   "metadata": {},
   "outputs": [],
   "source": [
    "def convolve_function(arr :list[list], b:list, padding = 0):\n",
    "    a = arr\n",
    "    n = len(a)\n",
    "    f = len(b)\n",
    "    o = n - f +  2*padding +1\n",
    "    res = [[0] * o for _ in range(o)]\n",
    "    \n",
    "    if padding:\n",
    "        n = len(a)\n",
    "        #left+right\n",
    "        for i in range(n):\n",
    "            row = a[i]\n",
    "            for _ in range(padding):\n",
    "                row.insert(0,0)\n",
    "                row.append(0)\n",
    "            a[i] = row\n",
    "        # top\n",
    "        \n",
    "        for i in range(padding):\n",
    "            new_row = [0] * (n+2*padding) \n",
    "            a.insert(0,new_row)\n",
    "        # bottom\n",
    "        for i in range(padding):\n",
    "            new_row = [0] * (n+2*padding) \n",
    "            a.append(new_row)\n",
    "\n",
    "        \n",
    "    for i in range(o):\n",
    "        for j in range(o):\n",
    "            s = 0\n",
    "            for win_row in range(f):\n",
    "                for win_col in range(f):\n",
    "                    s += (b[win_row][win_col] *\n",
    "                        a[i + win_row][j + win_col])\n",
    "            res[i][j] = s\n",
    "    return res\n"
   ]
  },
  {
   "cell_type": "code",
   "execution_count": 33,
   "metadata": {},
   "outputs": [
    {
     "data": {
      "text/plain": [
       "[[29, 39], [59, 69]]"
      ]
     },
     "execution_count": 33,
     "metadata": {},
     "output_type": "execute_result"
    }
   ],
   "source": [
    "a = [\n",
    "    [1,2,3],\n",
    "    [4,5,6],\n",
    "    [7,8,9]\n",
    "    ]\n",
    "b = [\n",
    "    [2,4],\n",
    "    [1,3]\n",
    "    ]\n",
    "res = convolve_function(a,b)\n",
    "res"
   ]
  },
  {
   "cell_type": "code",
   "execution_count": 27,
   "metadata": {},
   "outputs": [
    {
     "data": {
      "text/plain": [
       "[[30]]"
      ]
     },
     "execution_count": 27,
     "metadata": {},
     "output_type": "execute_result"
    }
   ],
   "source": [
    "a = [\n",
    "    [1,2,3],\n",
    "    [4,5,6],\n",
    "    [7,8,9]\n",
    "    ]\n",
    "c = [\n",
    "    [1,1,1],\n",
    "    [0,0,0],\n",
    "    [1,1,1]\n",
    "]\n",
    "res =convolve_function(a,c)\n",
    "res\n"
   ]
  },
  {
   "cell_type": "markdown",
   "metadata": {},
   "source": [
    "# 2D Convol + padding"
   ]
  },
  {
   "cell_type": "code",
   "execution_count": 42,
   "metadata": {},
   "outputs": [
    {
     "name": "stdout",
     "output_type": "stream",
     "text": [
      "[[0, 0, 0, 0], [0, 4, 4, 0], [0, 5, 5, 0], [0, 1, 1, 0]]\n"
     ]
    }
   ],
   "source": [
    "a = [\n",
    "    [0,0,0],\n",
    "    [0,4,0],\n",
    "    [0,1,0]\n",
    "    ]\n",
    "b = [\n",
    "    [1,1,],\n",
    "    [1,1]\n",
    "    ]\n",
    "\n",
    "res =convolve_function(a,b,padding=1)\n",
    "print(res)\n"
   ]
  },
  {
   "cell_type": "code",
   "execution_count": 43,
   "metadata": {},
   "outputs": [
    {
     "name": "stdout",
     "output_type": "stream",
     "text": [
      "[[0, 4, 0], [0, 5, 0], [0, 5, 0]]\n"
     ]
    }
   ],
   "source": [
    "a = [\n",
    "    [0,0,0],\n",
    "    [0,4,0],\n",
    "    [0,1,0]\n",
    "    ]\n",
    "\n",
    "c = [\n",
    "    [0,1,0],\n",
    "    [0,1,0],\n",
    "    [0,1,0]\n",
    "]\n",
    "res =convolve_function(a,c,padding=1)\n",
    "print(res)\n"
   ]
  },
  {
   "cell_type": "markdown",
   "metadata": {},
   "source": [
    "# Max Pooling + Avg Pooling\n"
   ]
  },
  {
   "cell_type": "code",
   "execution_count": 15,
   "metadata": {},
   "outputs": [],
   "source": [
    "def pooling_function(arr :list[list], method = 'Max pooling', filter = 2):\n",
    "    avai_methods = ['Max pooling','Average Pooling']\n",
    "    if method not in avai_methods:\n",
    "        print(f'choose the method in {avai_methods}')\n",
    "        return None\n",
    "    f = filter\n",
    "    a = arr\n",
    "    n = len(a)\n",
    "    o = n//2\n",
    "    res = [[0] * o for _ in range(o)]\n",
    "    \n",
    "    if method == 'Max pooling':\n",
    "        for i in range(o):\n",
    "            for j in range(o):\n",
    "                s = 0\n",
    "                for win_row in range(f*i,f*(i+1)):\n",
    "                    for win_col in range(f*j,f*(j+1)):\n",
    "                        s = max(\n",
    "                                a[win_row][win_col],\n",
    "                                s\n",
    "                                )\n",
    "                res[i][j] = s\n",
    "    else:\n",
    "        for i in range(o):\n",
    "            for j in range(o):\n",
    "                s = 0\n",
    "                cnt = 00\n",
    "                for win_row in range(f*i,f*(i+1)):\n",
    "                    for win_col in range(f*j,f*(j+1)):\n",
    "                        s += a[win_row][win_col]\n",
    "                        cnt +=1        \n",
    "                res[i][j] = s/cnt \n",
    "    return res\n"
   ]
  },
  {
   "cell_type": "code",
   "execution_count": 14,
   "metadata": {},
   "outputs": [
    {
     "name": "stdout",
     "output_type": "stream",
     "text": [
      "[[4, 4], [3, 2]]\n"
     ]
    }
   ],
   "source": [
    "a = [\n",
    "    [0,0,0,4],\n",
    "    [0,4,0,2],\n",
    "    [0,1,0,2],\n",
    "    [0,3,0,2]\n",
    "]\n",
    "res = pooling_function(a,method = 'Max pooling',filter=2)\n",
    "print(res)"
   ]
  },
  {
   "cell_type": "code",
   "execution_count": 16,
   "metadata": {},
   "outputs": [
    {
     "name": "stdout",
     "output_type": "stream",
     "text": [
      "[[1.0, 1.5], [1.0, 1.0]]\n"
     ]
    }
   ],
   "source": [
    "a = [\n",
    "    [0,0,0,4],\n",
    "    [0,4,0,2],\n",
    "    [0,1,0,2],\n",
    "    [0,3,0,2]\n",
    "]\n",
    "res = pooling_function(a,method = 'Average Pooling',filter=2)\n",
    "print(res)"
   ]
  },
  {
   "cell_type": "code",
   "execution_count": null,
   "metadata": {},
   "outputs": [],
   "source": []
  }
 ],
 "metadata": {
  "kernelspec": {
   "display_name": "aio_env_0703",
   "language": "python",
   "name": "python3"
  },
  "language_info": {
   "codemirror_mode": {
    "name": "ipython",
    "version": 3
   },
   "file_extension": ".py",
   "mimetype": "text/x-python",
   "name": "python",
   "nbconvert_exporter": "python",
   "pygments_lexer": "ipython3",
   "version": "3.12.9"
  }
 },
 "nbformat": 4,
 "nbformat_minor": 2
}
