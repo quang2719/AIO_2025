{
 "cells": [
  {
   "cell_type": "markdown",
   "metadata": {},
   "source": [
    "* P(Y|X) = P(X|Y).P(Y)/P(X)"
   ]
  },
  {
   "cell_type": "code",
   "execution_count": 1,
   "metadata": {},
   "outputs": [],
   "source": [
    "import pandas as pd\n",
    "import numpy as np\n",
    "\n"
   ]
  },
  {
   "cell_type": "code",
   "execution_count": 2,
   "metadata": {},
   "outputs": [],
   "source": [
    "data = pd.DataFrame({\n",
    "    \"Sốt\": [\"Cao\", \"Cao\", \"Cao\", \"Thấp\", \"Cao\", \"Thấp\", \"Thấp\", \"Cao\", \"Thấp\", \"Cao\"],\n",
    "    \"Ho\": [\"Có\", \"Không\", \"Có\", \"Có\", \"Có\", \"Không\", \"Có\", \"Không\", \"Không\", \"Có\"],\n",
    "    \"Đau họng\": [\"Có\", \"Có\", \"Không\", \"Có\", \"Có\", \"Có\", \"Không\", \"Có\", \"Không\", \"Có\"],\n",
    "    \"Mệt mỏi\": [\"Có\", \"Không\", \"Có\", \"Có\", \"Không\", \"Không\", \"Có\", \"Có\", \"Không\", \"Có\"],\n",
    "    \"Flu\": [\"Có\", \"Có\", \"Có\", \"Không\", \"Có\", \"Không\", \"Không\", \"Có\", \"Không\", \"Có\"]\n",
    "})"
   ]
  },
  {
   "cell_type": "code",
   "execution_count": 4,
   "metadata": {},
   "outputs": [],
   "source": [
    "# new pation data\n",
    "new_patient = {\"Sốt\": \"Cao\", \"Ho\": \"Có\", \"Đau họng\": \"Có\", \"Mệt mỏi\": \"Không\"}\n",
    "# output new_pationt flu = true /false\n",
    "\n"
   ]
  },
  {
   "cell_type": "code",
   "execution_count": 8,
   "metadata": {},
   "outputs": [
    {
     "data": {
      "text/plain": [
       "np.float64(0.6)"
      ]
     },
     "execution_count": 8,
     "metadata": {},
     "output_type": "execute_result"
    }
   ],
   "source": [
    "# cal prior probability P(C)\n",
    "P_flu = data['Flu'].value_counts(normalize=True)['Có'] # P(C = 1)\n",
    "P_flu"
   ]
  },
  {
   "cell_type": "code",
   "execution_count": 9,
   "metadata": {},
   "outputs": [
    {
     "data": {
      "text/plain": [
       "np.float64(0.4)"
      ]
     },
     "execution_count": 9,
     "metadata": {},
     "output_type": "execute_result"
    }
   ],
   "source": [
    "P_not_flu  = 1 - P_flu # P(C = 0)\n",
    "P_not_flu"
   ]
  },
  {
   "cell_type": "code",
   "execution_count": 10,
   "metadata": {},
   "outputs": [],
   "source": [
    "# cal P(x_i|C) with Laplace smoothing\n",
    "def conditional_prob(feature, value, flu_status,data,alpha = 1):\n",
    "    class_data = data[data['Flu'] == flu_status]\n",
    "    \n",
    "    value_count = class_data[class_data[feature] == value].shape[0]\n",
    "    \n",
    "    class_count = class_data.shape[0]\n",
    "    \n",
    "    unique_values = data[feature].nunique()\n",
    "    \n",
    "    prob = (value_count + alpha) / (class_count + alpha * unique_values)\n",
    "    \n",
    "    return prob"
   ]
  },
  {
   "cell_type": "code",
   "execution_count": 15,
   "metadata": {},
   "outputs": [],
   "source": [
    "# P(X|C) = P(x_1 |C) * P(x_2 |C) * ... * P( x_n |C)  // Naive Bayes\n",
    "P_X_given_flu = 1.0\n",
    "P_X_given_not_flu = 1.0\n",
    "\n",
    "for feature,value in new_patient.items():\n",
    "    P_X_given_flu *=  conditional_prob(feature, value, \"Có\",data)\n",
    "    P_X_given_not_flu *= conditional_prob(feature, value, \"Không\",data)\n",
    "numerator_flu = P_X_given_flu*P_flu\n",
    "numerator_not_flu = P_X_given_not_flu*P_not_flu"
   ]
  },
  {
   "cell_type": "code",
   "execution_count": 16,
   "metadata": {},
   "outputs": [
    {
     "name": "stdout",
     "output_type": "stream",
     "text": [
      "Output Naive Bayes:\n",
      "P(Flu =Có|X) = 0.9172\n",
      "P(Flu =Không|X) = 0.0828\n"
     ]
    }
   ],
   "source": [
    "# nomalize prob\n",
    "total = numerator_flu + numerator_not_flu\n",
    "P_flu_given_X = numerator_flu /total\n",
    "P_not_flu_given_X = numerator_not_flu/total\n",
    "\n",
    "print('Output Naive Bayes:')\n",
    "print(f\"P(Flu =Có|X) = { P_flu_given_X :.4f}\")\n",
    "print(f\"P(Flu =Không|X) = { P_not_flu_given_X :.4f}\")"
   ]
  },
  {
   "cell_type": "code",
   "execution_count": 17,
   "metadata": {},
   "outputs": [
    {
     "name": "stdout",
     "output_type": "stream",
     "text": [
      "\n",
      "Kết luận: Bệnh nhân có khả năng bị cúm.\n"
     ]
    }
   ],
   "source": [
    "print(\n",
    "    \"\\nKết luận:\", \"Bệnh nhân có khả năng bị cúm.\" if P_flu_given_X >P_not_flu_given_X \n",
    "    else \"Bệnh nhân KHÔNG có khả năng bị cúm.\"\n",
    "    )\n"
   ]
  },
  {
   "cell_type": "code",
   "execution_count": null,
   "metadata": {},
   "outputs": [],
   "source": []
  },
  {
   "cell_type": "code",
   "execution_count": null,
   "metadata": {},
   "outputs": [],
   "source": []
  },
  {
   "cell_type": "code",
   "execution_count": null,
   "metadata": {},
   "outputs": [],
   "source": []
  }
 ],
 "metadata": {
  "kernelspec": {
   "display_name": "aio_env_0703",
   "language": "python",
   "name": "python3"
  },
  "language_info": {
   "codemirror_mode": {
    "name": "ipython",
    "version": 3
   },
   "file_extension": ".py",
   "mimetype": "text/x-python",
   "name": "python",
   "nbconvert_exporter": "python",
   "pygments_lexer": "ipython3",
   "version": "3.12.9"
  }
 },
 "nbformat": 4,
 "nbformat_minor": 2
}
