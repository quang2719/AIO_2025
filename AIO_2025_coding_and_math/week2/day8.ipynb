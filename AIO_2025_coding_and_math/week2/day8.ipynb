{
 "cells": [
  {
   "cell_type": "code",
   "execution_count": 1,
   "metadata": {},
   "outputs": [
    {
     "name": "stdout",
     "output_type": "stream",
     "text": [
      "(2, 3)\n",
      "(3, 6)\n"
     ]
    }
   ],
   "source": [
    "my_tuple1 = (2,3)\n",
    "my_tuple2 = (3,6)\n",
    "print(my_tuple1)\n",
    "print(my_tuple2)"
   ]
  },
  {
   "cell_type": "code",
   "execution_count": null,
   "metadata": {},
   "outputs": [
    {
     "name": "stdout",
     "output_type": "stream",
     "text": [
      "(5, 9)\n",
      "(6, 18)\n"
     ]
    }
   ],
   "source": [
    "sum_tup = [0,0]\n",
    "for dimen in range(len(my_tuple1)):\n",
    "    sum_tup[dimen] = my_tuple1[dimen] + my_tuple2[dimen]\n",
    "print(tuple(sum_tup))\n",
    "mul_tup = [0,0]\n",
    "for dimen in range(len(my_tuple1)):\n",
    "    mul_tup[dimen] = my_tuple1[dimen] * my_tuple2[dimen]\n",
    "print(tuple(mul_tup))"
   ]
  },
  {
   "cell_type": "code",
   "execution_count": 11,
   "metadata": {},
   "outputs": [
    {
     "data": {
      "text/plain": [
       "3.1622776601683795"
      ]
     },
     "execution_count": 11,
     "metadata": {},
     "output_type": "execute_result"
    }
   ],
   "source": [
    "sum_ele = 0\n",
    "for dimen in range(len(my_tuple1)):\n",
    "    sum_ele += (my_tuple1[dimen] - my_tuple2[dimen])**2\n",
    "sum_ele **0.5\n"
   ]
  },
  {
   "cell_type": "code",
   "execution_count": 12,
   "metadata": {},
   "outputs": [
    {
     "name": "stdout",
     "output_type": "stream",
     "text": [
      "(1, 0)\n"
     ]
    }
   ],
   "source": [
    "id_tup = [0,0]\n",
    "id_tup[0] = my_tuple1.index(3)\n",
    "id_tup[1] = my_tuple2.index(3)\n",
    "print(tuple(id_tup))"
   ]
  },
  {
   "cell_type": "markdown",
   "metadata": {},
   "source": [
    "# Bag of Words"
   ]
  },
  {
   "cell_type": "code",
   "execution_count": 13,
   "metadata": {},
   "outputs": [],
   "source": [
    "corpus = [\"Tôi thích môn Toán\",\"Tôi thích AI\", \"Tôi thích âm nhạc\"]"
   ]
  },
  {
   "cell_type": "code",
   "execution_count": 21,
   "metadata": {},
   "outputs": [
    {
     "name": "stdout",
     "output_type": "stream",
     "text": [
      "[1, 1, 1, 0, 0, 2, 0]\n",
      "['AI', 'Toán', 'Tôi', 'môn', 'nhạc', 'thích', 'âm']\n"
     ]
    }
   ],
   "source": [
    "words = set()\n",
    "for sentence in corpus:\n",
    "    for word in sentence.split(\" \"):\n",
    "        words.add(word)\n",
    "words = list(words)\n",
    "words.sort()\n",
    "res = [0] * len(words)\n",
    "sen = \"Tôi thích AI thích Toán\"\n",
    "for word in sen.split(' '):\n",
    "    res[words.index(word)] +=1\n",
    "print(res)\n",
    "print(words)"
   ]
  },
  {
   "cell_type": "markdown",
   "metadata": {},
   "source": [
    "# Algorithms"
   ]
  },
  {
   "cell_type": "code",
   "execution_count": 22,
   "metadata": {},
   "outputs": [
    {
     "name": "stdout",
     "output_type": "stream",
     "text": [
      "2 \n",
      " [2, 4, 6]\n"
     ]
    }
   ],
   "source": [
    "lst_data = [1, 1.1, None, 1.4, None, 1.5, None, 2.0]\n",
    "res = -1\n",
    "res_arr = []\n",
    "for i,x in enumerate(lst_data):\n",
    "    if x == None:\n",
    "        res = (i if res == -1 else res)\n",
    "        res_arr.append(i)\n",
    "print(res,'\\n', res_arr)"
   ]
  },
  {
   "cell_type": "code",
   "execution_count": 24,
   "metadata": {},
   "outputs": [
    {
     "name": "stdout",
     "output_type": "stream",
     "text": [
      "[1, 1.1, 1.1, 1.4, 1.4, 1.5, 1.5, 2.0]\n"
     ]
    }
   ],
   "source": [
    "lst_data = [1, 1.1, None, 1.4, None, 1.5, None, 2.0]\n",
    "for i, x in enumerate(lst_data):\n",
    "    if x is None:\n",
    "        if i == 0:\n",
    "            lst_data[i] = lst_data[i+1]\n",
    "        elif i == len(lst_data) - 1:\n",
    "            lst_data[i] = lst_data[i-1]\n",
    "        else:\n",
    "            # Kiểm tra lst_data[i-1] và lst_data[i+1] có phải None không\n",
    "            if lst_data[i-1] is None and lst_data[i+1] is None:\n",
    "                # Nếu cả hai đều None, không làm gì cả (hoặc gán giá trị mặc định)\n",
    "                # Ví dụ: lst_data[i] = 0\n",
    "                pass # Hoặc có thể raise Exception, tùy theo yêu cầu\n",
    "            elif lst_data[i+1] is None:\n",
    "                lst_data[i] = lst_data[i-1]\n",
    "            elif lst_data[i-1] is None:\n",
    "                 lst_data[i] = lst_data[i+1]\n",
    "            else:\n",
    "                lst_data[i] = min(lst_data[i-1], lst_data[i+1])\n",
    "\n",
    "print(lst_data)"
   ]
  },
  {
   "cell_type": "markdown",
   "metadata": {},
   "source": [
    "# 2D list"
   ]
  },
  {
   "cell_type": "code",
   "execution_count": 27,
   "metadata": {},
   "outputs": [
    {
     "name": "stdout",
     "output_type": "stream",
     "text": [
      "[[1, 2, 3], [4, 5, 6], [7, 8, 9]]\n"
     ]
    }
   ],
   "source": [
    "lst_data = [[0]*3 for _ in range(3)]\n",
    "for i in range(3):\n",
    "    for j in range(3):\n",
    "        lst_data[i][j] = 3*i+j+1\n",
    "print(lst_data)\n",
    "        "
   ]
  },
  {
   "cell_type": "code",
   "execution_count": 28,
   "metadata": {},
   "outputs": [
    {
     "name": "stdout",
     "output_type": "stream",
     "text": [
      "[[1, 3], [4, 6], [7, 9]]\n"
     ]
    }
   ],
   "source": [
    "lst_sub_data = []\n",
    "for i in range(3):\n",
    "    lst_sub_data.append([lst_data[i][0],lst_data[i][2]])\n",
    "print(lst_sub_data)"
   ]
  },
  {
   "cell_type": "code",
   "execution_count": 32,
   "metadata": {},
   "outputs": [
    {
     "name": "stdout",
     "output_type": "stream",
     "text": [
      "[[3, 6, 9], [5, 8, 11], [8, 8, 10]]\n",
      "[[-1, -2, -3], [3, 2, 1], [6, 8, 8]]\n",
      "[[7, 10, 19], [19, 31, 55], [31, 52, 91]]\n"
     ]
    }
   ],
   "source": [
    "a = [[1,2,3],[4,5,6],[7,8,9]]\n",
    "b = [[2,4,6],[1,3,5],[1,0,1]]\n",
    "\n",
    "sum_ab = [[0]*3 for _ in range(3) ]\n",
    "minor_ab = [[0]*3 for _ in range(3) ]\n",
    "dot_ab = [[0]*3 for _ in range(3) ]\n",
    "for i in range(3):\n",
    "    for j in range(3):\n",
    "        sum_ab[i][j] = a[i][j] + b[i][j]\n",
    "        minor_ab[i][j] = a[i][j] - b[i][j]\n",
    "        for k in range(0,3):\n",
    "            dot_ab[i][j] += a[i][k] * b[k][j]\n",
    "\n",
    "print(sum_ab)\n",
    "print(minor_ab)\n",
    "print(dot_ab)"
   ]
  },
  {
   "cell_type": "markdown",
   "metadata": {},
   "source": [
    "# List Comprehension"
   ]
  },
  {
   "cell_type": "code",
   "execution_count": 33,
   "metadata": {},
   "outputs": [
    {
     "data": {
      "text/plain": [
       "['AI', 'listen', 'music']"
      ]
     },
     "execution_count": 33,
     "metadata": {},
     "output_type": "execute_result"
    }
   ],
   "source": [
    "stop_words = [\"I\", \"love\", \"and\", \"to\"]\n",
    "input = \"I love AI and listen to music\"\n",
    "res = [ x for x in input.split(' ') if x not in stop_words]\n",
    "res"
   ]
  },
  {
   "cell_type": "markdown",
   "metadata": {},
   "source": [
    "# Mathemetic with List"
   ]
  },
  {
   "cell_type": "code",
   "execution_count": 35,
   "metadata": {},
   "outputs": [
    {
     "name": "stdout",
     "output_type": "stream",
     "text": [
      " Test 1: [0.0, 0.28, 0.52, 0.76, 1.0]\n",
      " Test 2: [0.0, 0.25, 0.5, 0.75, 1.0]\n",
      " Test 3: [0.0, 0.25, 0.5, 0.75, 1.0]\n"
     ]
    }
   ],
   "source": [
    "def normalize ( lst_data ) :\n",
    "    ## Your code here\n",
    "    minx = min(lst_data)\n",
    "    maxx = max(lst_data)\n",
    "    for i,x in enumerate(lst_data):\n",
    "        lst_data[i] = (x-minx)/(maxx-minx)\n",
    "    return lst_data\n",
    "    \n",
    "test_cases = [\n",
    "[11 , 18 , 24 , 30 , 36] ,\n",
    "[50 , 100 , 150 , 200 , 250] ,\n",
    "[3 , 5 , 7 , 9 , 11]\n",
    "]\n",
    "for i , test in enumerate ( test_cases ) :\n",
    "    result = normalize ( test )\n",
    "    print ( f\" Test {i +1}: { result }\")\n"
   ]
  },
  {
   "cell_type": "code",
   "execution_count": 51,
   "metadata": {},
   "outputs": [],
   "source": [
    "def moving_average ( lst : list , k:int) :\n",
    "    res = []\n",
    "    i = 0\n",
    "    while i + k <= len(lst):\n",
    "        res.append(\n",
    "            sum(lst[i:i+k])/k\n",
    "\n",
    "        )\n",
    "        i+=1\n",
    "    return res"
   ]
  },
  {
   "cell_type": "code",
   "execution_count": 52,
   "metadata": {},
   "outputs": [],
   "source": [
    "tc = [\n",
    "    ([1 , 2 , 3 , 4 , 5 , 6 , 7 , 8 , 9] , 3) ,\n",
    "    ([10 , 20 , 30 , 40 , 50 , 60 , 70] , 4) ,\n",
    "    ([5 , 10 , 15 , 20 , 25] , 2)\n",
    "\n",
    "]"
   ]
  },
  {
   "cell_type": "code",
   "execution_count": 53,
   "metadata": {},
   "outputs": [
    {
     "name": "stdout",
     "output_type": "stream",
     "text": [
      "test: [1, 2, 3, 4, 5, 6, 7, 8, 9]: \n",
      " output: [2.0, 3.0, 4.0, 5.0, 6.0, 7.0, 8.0]\n",
      "test: [10, 20, 30, 40, 50, 60, 70]: \n",
      " output: [25.0, 35.0, 45.0, 55.0]\n",
      "test: [5, 10, 15, 20, 25]: \n",
      " output: [7.5, 12.5, 17.5, 22.5]\n"
     ]
    }
   ],
   "source": [
    "for i,(lst,k) in enumerate(tc):\n",
    "    res = moving_average(lst,k)\n",
    "    print(f'test: {lst}: \\n output: {res}')\n",
    "    "
   ]
  },
  {
   "cell_type": "markdown",
   "metadata": {},
   "source": [
    "# Dot product\n"
   ]
  },
  {
   "cell_type": "code",
   "execution_count": 57,
   "metadata": {},
   "outputs": [],
   "source": [
    "def dot_product ( v1 , v2 ) :\n",
    "    res = 0\n",
    "    for i in range(len(v1)):\n",
    "        res += v1[i]*v2[i]\n",
    "    return res"
   ]
  },
  {
   "cell_type": "code",
   "execution_count": 59,
   "metadata": {},
   "outputs": [
    {
     "name": "stdout",
     "output_type": "stream",
     "text": [
      "Test 1: 32\n",
      "Test 2: 44\n",
      "Test 3: 14\n"
     ]
    }
   ],
   "source": [
    "test_cases = [\n",
    "    ([1 , 2 , 3] , [4 , 5 , 6]) ,\n",
    "    ([2 , 4 , 6] , [1 , 3 , 5]) ,\n",
    "    ([0 , 1 , 2] , [3 , 4 , 5])\n",
    "]\n",
    "for i , (v1,v2) in enumerate(test_cases):\n",
    "    res = dot_product(v1,v2)\n",
    "    print(f'Test {i+1}: {res}')"
   ]
  },
  {
   "cell_type": "markdown",
   "metadata": {},
   "source": [
    "# Perceptron\n"
   ]
  },
  {
   "cell_type": "code",
   "execution_count": 62,
   "metadata": {},
   "outputs": [],
   "source": [
    "def perceptron_relu ( weights , inputs , bias ) :\n",
    "    y = 0\n",
    "    for i in range(len(weights)):\n",
    "        y += weights[i]*inputs[i] + bias\n",
    "    return max(0,y)"
   ]
  },
  {
   "cell_type": "code",
   "execution_count": 63,
   "metadata": {},
   "outputs": [
    {
     "name": "stdout",
     "output_type": "stream",
     "text": [
      "test 1: 0.4\n",
      "test 2: 1.9000000000000001\n",
      "test 3: 0\n"
     ]
    }
   ],
   "source": [
    "test_case = [\n",
    "    ([0.5 , -0.6 , 0.8] , [1.0 , 0.0 , 1.0] , -0.3) ,\n",
    "    ([0.2 , 0.5 , -0.4] , [1.0 , 2.0 , -1.0] , 0.1) ,\n",
    "    ([1.0 , -1.0 , 0.5] , [0.5 , 1.0 , -0.5] , -0.2)\n",
    "]\n",
    "for i,(w,x,b) in enumerate(test_case):\n",
    "    res = perceptron_relu(w,x,b)\n",
    "    print(f'test {i+1}: {res}')"
   ]
  },
  {
   "cell_type": "code",
   "execution_count": null,
   "metadata": {},
   "outputs": [],
   "source": []
  },
  {
   "cell_type": "code",
   "execution_count": null,
   "metadata": {},
   "outputs": [],
   "source": []
  }
 ],
 "metadata": {
  "kernelspec": {
   "display_name": "aio_env_0703",
   "language": "python",
   "name": "python3"
  },
  "language_info": {
   "codemirror_mode": {
    "name": "ipython",
    "version": 3
   },
   "file_extension": ".py",
   "mimetype": "text/x-python",
   "name": "python",
   "nbconvert_exporter": "python",
   "pygments_lexer": "ipython3",
   "version": "3.12.9"
  }
 },
 "nbformat": 4,
 "nbformat_minor": 2
}
