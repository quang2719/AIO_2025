{
 "cells": [
  {
   "cell_type": "code",
   "execution_count": 1,
   "metadata": {},
   "outputs": [
    {
     "name": "stdout",
     "output_type": "stream",
     "text": [
      "(2, 3)\n",
      "(3, 6)\n"
     ]
    }
   ],
   "source": [
    "my_tuple1 = (2,3)\n",
    "my_tuple2 = (3,6)\n",
    "print(my_tuple1)\n",
    "print(my_tuple2)"
   ]
  },
  {
   "cell_type": "code",
   "execution_count": null,
   "metadata": {},
   "outputs": [
    {
     "name": "stdout",
     "output_type": "stream",
     "text": [
      "(5, 9)\n",
      "(6, 18)\n"
     ]
    }
   ],
   "source": [
    "sum_tup = [0,0]\n",
    "for dimen in range(len(my_tuple1)):\n",
    "    sum_tup[dimen] = my_tuple1[dimen] + my_tuple2[dimen]\n",
    "print(tuple(sum_tup))\n",
    "mul_tup = [0,0]\n",
    "for dimen in range(len(my_tuple1)):\n",
    "    mul_tup[dimen] = my_tuple1[dimen] * my_tuple2[dimen]\n",
    "print(tuple(mul_tup))"
   ]
  },
  {
   "cell_type": "code",
   "execution_count": 11,
   "metadata": {},
   "outputs": [
    {
     "data": {
      "text/plain": [
       "3.1622776601683795"
      ]
     },
     "execution_count": 11,
     "metadata": {},
     "output_type": "execute_result"
    }
   ],
   "source": [
    "sum_ele = 0\n",
    "for dimen in range(len(my_tuple1)):\n",
    "    sum_ele += (my_tuple1[dimen] - my_tuple2[dimen])**2\n",
    "sum_ele **0.5\n"
   ]
  },
  {
   "cell_type": "code",
   "execution_count": 12,
   "metadata": {},
   "outputs": [
    {
     "name": "stdout",
     "output_type": "stream",
     "text": [
      "(1, 0)\n"
     ]
    }
   ],
   "source": [
    "id_tup = [0,0]\n",
    "id_tup[0] = my_tuple1.index(3)\n",
    "id_tup[1] = my_tuple2.index(3)\n",
    "print(tuple(id_tup))"
   ]
  },
  {
   "cell_type": "markdown",
   "metadata": {},
   "source": [
    "# Bag of Words"
   ]
  },
  {
   "cell_type": "code",
   "execution_count": 13,
   "metadata": {},
   "outputs": [],
   "source": [
    "corpus = [\"Tôi thích môn Toán\",\"Tôi thích AI\", \"Tôi thích âm nhạc\"]"
   ]
  },
  {
   "cell_type": "code",
   "execution_count": 21,
   "metadata": {},
   "outputs": [
    {
     "name": "stdout",
     "output_type": "stream",
     "text": [
      "[1, 1, 1, 0, 0, 2, 0]\n",
      "['AI', 'Toán', 'Tôi', 'môn', 'nhạc', 'thích', 'âm']\n"
     ]
    }
   ],
   "source": [
    "words = set()\n",
    "for sentence in corpus:\n",
    "    for word in sentence.split(\" \"):\n",
    "        words.add(word)\n",
    "words = list(words)\n",
    "words.sort()\n",
    "res = [0] * len(words)\n",
    "sen = \"Tôi thích AI thích Toán\"\n",
    "for word in sen.split(' '):\n",
    "    res[words.index(word)] +=1\n",
    "print(res)\n",
    "print(words)"
   ]
  },
  {
   "cell_type": "markdown",
   "metadata": {},
   "source": [
    "# Algorithms"
   ]
  },
  {
   "cell_type": "code",
   "execution_count": 22,
   "metadata": {},
   "outputs": [
    {
     "name": "stdout",
     "output_type": "stream",
     "text": [
      "2 \n",
      " [2, 4, 6]\n"
     ]
    }
   ],
   "source": [
    "lst_data = [1, 1.1, None, 1.4, None, 1.5, None, 2.0]\n",
    "res = -1\n",
    "res_arr = []\n",
    "for i,x in enumerate(lst_data):\n",
    "    if x == None:\n",
    "        res = (i if res == -1 else res)\n",
    "        res_arr.append(i)\n",
    "print(res,'\\n', res_arr)"
   ]
  },
  {
   "cell_type": "code",
   "execution_count": 23,
   "metadata": {},
   "outputs": [
    {
     "ename": "TypeError",
     "evalue": "'<' not supported between instances of 'float' and 'NoneType'",
     "output_type": "error",
     "traceback": [
      "\u001b[31m---------------------------------------------------------------------------\u001b[39m",
      "\u001b[31mTypeError\u001b[39m                                 Traceback (most recent call last)",
      "\u001b[36mCell\u001b[39m\u001b[36m \u001b[39m\u001b[32mIn[23]\u001b[39m\u001b[32m, line 9\u001b[39m\n\u001b[32m      7\u001b[39m             lst_data[i] = lst_data[i-\u001b[32m1\u001b[39m]\n\u001b[32m      8\u001b[39m         \u001b[38;5;28;01melse\u001b[39;00m:\n\u001b[32m----> \u001b[39m\u001b[32m9\u001b[39m             lst_data[i] = \u001b[38;5;28;43mmin\u001b[39;49m\u001b[43m(\u001b[49m\u001b[43mlst_data\u001b[49m\u001b[43m[\u001b[49m\u001b[43mi\u001b[49m\u001b[43m]\u001b[49m\u001b[43m,\u001b[49m\u001b[43mlst_data\u001b[49m\u001b[43m[\u001b[49m\u001b[43mi\u001b[49m\u001b[43m+\u001b[49m\u001b[32;43m1\u001b[39;49m\u001b[43m]\u001b[49m\u001b[43m)\u001b[49m\n\u001b[32m     10\u001b[39m \u001b[38;5;28mprint\u001b[39m(lst_data)\n",
      "\u001b[31mTypeError\u001b[39m: '<' not supported between instances of 'float' and 'NoneType'"
     ]
    }
   ],
   "source": [
    "lst_data = [1, 1.1, None, 1.4, None, 1.5, None, 2.0]\n",
    "for i,x in enumerate(lst_data):\n",
    "    if x == None:\n",
    "        if i == 0:\n",
    "            lst_data[i] = lst_data[i+1]\n",
    "        elif i == len(lst_data)-1:\n",
    "            lst_data[i] = lst_data[i-1]\n",
    "        else:\n",
    "            lst_data[i] = min(lst_data[i],lst_data[i+1])\n",
    "print(lst_data)"
   ]
  },
  {
   "cell_type": "code",
   "execution_count": null,
   "metadata": {},
   "outputs": [],
   "source": []
  }
 ],
 "metadata": {
  "kernelspec": {
   "display_name": "aio_env_0703",
   "language": "python",
   "name": "python3"
  },
  "language_info": {
   "codemirror_mode": {
    "name": "ipython",
    "version": 3
   },
   "file_extension": ".py",
   "mimetype": "text/x-python",
   "name": "python",
   "nbconvert_exporter": "python",
   "pygments_lexer": "ipython3",
   "version": "3.12.9"
  }
 },
 "nbformat": 4,
 "nbformat_minor": 2
}
