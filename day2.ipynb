{
 "cells": [
  {
   "cell_type": "code",
   "execution_count": 2,
   "metadata": {},
   "outputs": [
    {
     "name": "stdout",
     "output_type": "stream",
     "text": [
      "Ten: name. Diem toan: 7.0. Diem kh: 8.0\n"
     ]
    }
   ],
   "source": [
    "student_name = \"name\"\n",
    "math_score = 7.00\n",
    "science_score = 8.00\n",
    "print(f'Ten: {student_name}. Diem toan: {math_score}. Diem kh: {science_score}')\n"
   ]
  },
  {
   "cell_type": "code",
   "execution_count": null,
   "metadata": {},
   "outputs": [
    {
     "name": "stdout",
     "output_type": "stream",
     "text": [
      "Tong diem:15.0\n",
      "Hieu diem:-1.0\n",
      "Tich diem:56.0\n",
      "Thuong diem:0.875\n"
     ]
    }
   ],
   "source": [
    "print(\n",
    "        f'Tong diem:{math_score + science_score}',\n",
    "        f'Hieu diem:{math_score - science_score}',\n",
    "        f'Tich diem:{math_score * science_score}',\n",
    "        f'Thuong diem:{math_score / science_score}',\n",
    "        sep = \"\\n\"\n",
    "    )"
   ]
  },
  {
   "cell_type": "code",
   "execution_count": 4,
   "metadata": {},
   "outputs": [
    {
     "name": "stdout",
     "output_type": "stream",
     "text": [
      "Tong diem:16.0\n",
      "Hieu diem:0.0\n",
      "Tich diem:64.0\n",
      "Thuong diem:1.0\n"
     ]
    }
   ],
   "source": [
    "math_score += 1\n",
    "print(\n",
    "        f'Tong diem:{math_score + science_score}',\n",
    "        f'Hieu diem:{math_score - science_score}',\n",
    "        f'Tich diem:{math_score * science_score}',\n",
    "        f'Thuong diem:{math_score / science_score}',\n",
    "        sep = \"\\n\"\n",
    "    )"
   ]
  },
  {
   "cell_type": "code",
   "execution_count": 7,
   "metadata": {},
   "outputs": [],
   "source": [
    "def print_rank(scores):\n",
    "    n = len(scores)\n",
    "    avg = sum(scores)/n\n",
    "    if avg >= 8.0:\n",
    "        print('Xuat sac')\n",
    "    elif avg >= 6.5:\n",
    "        print('Kha')\n",
    "    elif avg >= 5.0:\n",
    "        print('Trung binh')\n",
    "    else:\n",
    "        print('Can co gang')\n",
    "        "
   ]
  },
  {
   "cell_type": "code",
   "execution_count": 9,
   "metadata": {},
   "outputs": [
    {
     "name": "stdout",
     "output_type": "stream",
     "text": [
      "[8.0, 8.0]\n",
      "Xuat sac\n"
     ]
    }
   ],
   "source": [
    "scores = [math_score,science_score]\n",
    "print(scores)\n",
    "print_rank(scores)"
   ]
  },
  {
   "cell_type": "code",
   "execution_count": null,
   "metadata": {},
   "outputs": [],
   "source": []
  },
  {
   "cell_type": "code",
   "execution_count": null,
   "metadata": {},
   "outputs": [],
   "source": []
  },
  {
   "cell_type": "code",
   "execution_count": null,
   "metadata": {},
   "outputs": [],
   "source": []
  },
  {
   "cell_type": "code",
   "execution_count": null,
   "metadata": {},
   "outputs": [],
   "source": []
  }
 ],
 "metadata": {
  "kernelspec": {
   "display_name": "aio_env_0703",
   "language": "python",
   "name": "python3"
  },
  "language_info": {
   "codemirror_mode": {
    "name": "ipython",
    "version": 3
   },
   "file_extension": ".py",
   "mimetype": "text/x-python",
   "name": "python",
   "nbconvert_exporter": "python",
   "pygments_lexer": "ipython3",
   "version": "3.12.9"
  }
 },
 "nbformat": 4,
 "nbformat_minor": 2
}
