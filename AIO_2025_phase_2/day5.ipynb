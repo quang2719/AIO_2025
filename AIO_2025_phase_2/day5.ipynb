{
 "cells": [
  {
   "cell_type": "code",
   "execution_count": 3,
   "metadata": {},
   "outputs": [],
   "source": [
    "def find_primes ( N ) :\n",
    "# Your code here\n",
    "    if N < 2: return None\n",
    "    res = []\n",
    "    primes = [True for x in range(N+1)]\n",
    "    primes[0],primes[1] = False,False\n",
    "    for i in range(2,N):\n",
    "        if primes[i]:\n",
    "            res.append(i)\n",
    "            for j in range(i*i, N+1,i):\n",
    "                primes[j] = False\n",
    "    \n",
    "    return res"
   ]
  },
  {
   "cell_type": "code",
   "execution_count": 4,
   "metadata": {},
   "outputs": [
    {
     "name": "stdout",
     "output_type": "stream",
     "text": [
      "[2, 3, 5, 7, 11, 13]\n"
     ]
    }
   ],
   "source": [
    "N = int( input (\"Nhập N: \"))\n",
    "result = find_primes ( N )\n",
    "print ( result )\n"
   ]
  },
  {
   "cell_type": "code",
   "execution_count": 9,
   "metadata": {},
   "outputs": [],
   "source": [
    "def sum_perfect_numbers ( N ) :\n",
    "    if N <= 3: return False\n",
    "    total = 1\n",
    "    i = 2\n",
    "    \n",
    "    while i * i <= N:\n",
    "        if i*i == N:\n",
    "            total += i\n",
    "        else:\n",
    "            if N%i==0:\n",
    "                total += i\n",
    "                total += (N//i)\n",
    "        i+=1\n",
    "    if total == N:\n",
    "        return True\n",
    "    return False\n",
    "def iter(N):\n",
    "    res = []\n",
    "    for i in range(2,N+1):\n",
    "        if sum_perfect_numbers(i):\n",
    "            res.append(i)\n",
    "    return sum(res)\n",
    "            "
   ]
  },
  {
   "cell_type": "code",
   "execution_count": 10,
   "metadata": {},
   "outputs": [
    {
     "name": "stdout",
     "output_type": "stream",
     "text": [
      "34\n"
     ]
    }
   ],
   "source": [
    "N = int( input (\"Nhập N: \"))\n",
    "result = iter(N)\n",
    "print (result)"
   ]
  }
 ],
 "metadata": {
  "kernelspec": {
   "display_name": "aio_env_0703",
   "language": "python",
   "name": "python3"
  },
  "language_info": {
   "codemirror_mode": {
    "name": "ipython",
    "version": 3
   },
   "file_extension": ".py",
   "mimetype": "text/x-python",
   "name": "python",
   "nbconvert_exporter": "python",
   "pygments_lexer": "ipython3",
   "version": "3.12.9"
  }
 },
 "nbformat": 4,
 "nbformat_minor": 2
}
