{
 "cells": [
  {
   "cell_type": "code",
   "execution_count": 1,
   "metadata": {},
   "outputs": [],
   "source": [
    "def plus_2_num(a=0,b=0):\n",
    "    return a+b"
   ]
  },
  {
   "cell_type": "code",
   "execution_count": 2,
   "metadata": {},
   "outputs": [
    {
     "name": "stdout",
     "output_type": "stream",
     "text": [
      "3\n"
     ]
    }
   ],
   "source": [
    "print(plus_2_num(a=2,b =1))"
   ]
  },
  {
   "cell_type": "code",
   "execution_count": 3,
   "metadata": {},
   "outputs": [],
   "source": [
    "def minor_2_num(a=0,b=0):\n",
    "    return a-b\n"
   ]
  },
  {
   "cell_type": "code",
   "execution_count": null,
   "metadata": {},
   "outputs": [
    {
     "name": "stdout",
     "output_type": "stream",
     "text": [
      "2\n"
     ]
    }
   ],
   "source": [
    "# them tham so chi dinh -> 0 can theo thu tu\n",
    "print(minor_2_num(b = -2)) # 0 -(-2)\n"
   ]
  },
  {
   "cell_type": "code",
   "execution_count": 6,
   "metadata": {},
   "outputs": [
    {
     "name": "stdout",
     "output_type": "stream",
     "text": [
      "6\n",
      "12\n"
     ]
    }
   ],
   "source": [
    "def mul(x,y = 2):\n",
    "    return x*y\n",
    "print(mul(3))\n",
    "print(mul(3,4))"
   ]
  },
  {
   "cell_type": "markdown",
   "metadata": {},
   "source": [
    "# Activation function"
   ]
  },
  {
   "cell_type": "code",
   "execution_count": 8,
   "metadata": {},
   "outputs": [],
   "source": [
    "import math\n",
    "# sigmoid\n",
    "def sigmoid(x):\n",
    "    return 1/(1+math.exp(-x))\n",
    "# tanh\n",
    "def tanh(x):\n",
    "    return math.tanh(x)\n",
    "# softplus\n",
    "def softplus(x):\n",
    "    return math.log(1 + math.exp(x))\n",
    "# relu\n",
    "def relu(x):\n",
    "    return max(0,x)\n",
    "# LeakyReLu\n",
    "def LeakyReLu(x, alpha = 0.01):\n",
    "    return x if x > 0 else alpha*x\n",
    "# PReLU\n",
    "def PReLU(x):\n",
    "    return x if x>0 else alpha *x\n",
    "# Swish\n",
    "def Swish(x):\n",
    "    return x * sigmoid(x)\n",
    "def activate(function_name : str, x: float,alpha = None):\n",
    "    if function_name == \"sigmoid\":\n",
    "        return sigmoid(x)\n",
    "    elif function_name == \"tanh\":\n",
    "        return tanh(x)\n",
    "    elif function_name == \"softplus\":\n",
    "        return softplus(x)\n",
    "    elif function_name == \"LeakyReLu\":\n",
    "        return LeakyReLu(x)\n",
    "    elif function_name == \"relu\":\n",
    "        return relu(x)\n",
    "    elif function_name == \"LeakyReLu\":\n",
    "        return LeakyReLu(x)\n",
    "    elif function_name == \"PReLU\":\n",
    "        return PReLU(x)\n",
    "    elif function_name == \"Swish\":\n",
    "        return Swish(x)\n",
    "    else:\n",
    "        raise ValueError(f\"Unknown activation function\")\n",
    "        return None"
   ]
  },
  {
   "cell_type": "code",
   "execution_count": 9,
   "metadata": {},
   "outputs": [
    {
     "data": {
      "text/plain": [
       "0.9380968325850065"
      ]
     },
     "execution_count": 9,
     "metadata": {},
     "output_type": "execute_result"
    }
   ],
   "source": [
    "activate(\"sigmoid\", math.e)\n"
   ]
  },
  {
   "cell_type": "code",
   "execution_count": 10,
   "metadata": {},
   "outputs": [
    {
     "data": {
      "text/plain": [
       "5.006715348489118"
      ]
     },
     "execution_count": 10,
     "metadata": {},
     "output_type": "execute_result"
    }
   ],
   "source": [
    "activate(\"softplus\", 5)\n"
   ]
  },
  {
   "cell_type": "code",
   "execution_count": 12,
   "metadata": {},
   "outputs": [
    {
     "data": {
      "text/plain": [
       "2"
      ]
     },
     "execution_count": 12,
     "metadata": {},
     "output_type": "execute_result"
    }
   ],
   "source": [
    "activate(\"PReLU\", 2, 0.1)"
   ]
  },
  {
   "cell_type": "code",
   "execution_count": null,
   "metadata": {},
   "outputs": [],
   "source": []
  }
 ],
 "metadata": {
  "kernelspec": {
   "display_name": "aio_env_0703",
   "language": "python",
   "name": "python3"
  },
  "language_info": {
   "codemirror_mode": {
    "name": "ipython",
    "version": 3
   },
   "file_extension": ".py",
   "mimetype": "text/x-python",
   "name": "python",
   "nbconvert_exporter": "python",
   "pygments_lexer": "ipython3",
   "version": "3.12.9"
  }
 },
 "nbformat": 4,
 "nbformat_minor": 2
}
