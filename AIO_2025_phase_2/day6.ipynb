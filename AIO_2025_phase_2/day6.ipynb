{
 "cells": [
  {
   "cell_type": "code",
   "execution_count": 6,
   "metadata": {},
   "outputs": [],
   "source": [
    "def y(x: float): \n",
    "    return x**3 - 3*x +1\n",
    "def y_derivative( x :float): \n",
    "    return 3*x**2 - 3\n",
    "\n",
    "def neutonMethod(epsilon = 1e-4):\n",
    "    x = 5.0\n",
    "    dif = x\n",
    "    count= 100\n",
    "    while count > 0:\n",
    "        count-=1\n",
    "        x_n_1 = x - y(x)/y_derivative(x)\n",
    "        dif = abs(x-x_n_1)\n",
    "        x = x_n_1\n",
    "        if dif <= epsilon: break\n",
    "    return x"
   ]
  },
  {
   "cell_type": "code",
   "execution_count": 9,
   "metadata": {},
   "outputs": [
    {
     "name": "stdout",
     "output_type": "stream",
     "text": [
      "1.532088896139217\n",
      "4.0019798586143907e-08\n"
     ]
    }
   ],
   "source": [
    "res = neutonMethod()\n",
    "\n",
    "print(res)\n",
    "print(y(res))"
   ]
  },
  {
   "cell_type": "code",
   "execution_count": null,
   "metadata": {},
   "outputs": [],
   "source": []
  }
 ],
 "metadata": {
  "kernelspec": {
   "display_name": "aio_env_0703",
   "language": "python",
   "name": "python3"
  },
  "language_info": {
   "codemirror_mode": {
    "name": "ipython",
    "version": 3
   },
   "file_extension": ".py",
   "mimetype": "text/x-python",
   "name": "python",
   "nbconvert_exporter": "python",
   "pygments_lexer": "ipython3",
   "version": "3.12.9"
  }
 },
 "nbformat": 4,
 "nbformat_minor": 2
}
