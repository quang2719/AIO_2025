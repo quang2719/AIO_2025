{
 "cells": [
  {
   "cell_type": "code",
   "execution_count": null,
   "metadata": {},
   "outputs": [],
   "source": [
    "data = pd.DataFrame({\n",
    "    \"Sốt\": [\"Cao\", \"Cao\", \"Cao\", \"Thấp\", \"Cao\", \"Thấp\", \"Thấp\", \"Cao\", \"Thấp\", \"Cao\"],\n",
    "    \"Ho\": [\"Có\", \"Không\", \"Có\", \"Có\", \"Có\", \"Không\", \"Có\", \"Không\", \"Không\", \"Có\"],\n",
    "    \"Đau họng\": [\"Có\", \"Có\", \"Không\", \"Có\", \"Có\", \"Có\", \"Không\", \"Có\", \"Không\", \"Có\"],\n",
    "    \"Mệt mỏi\": [\"Có\", \"Không\", \"Có\", \"Có\", \"Không\", \"Không\", \"Có\", \"Có\", \"Không\", \"Có\"],\n",
    "    \"Flu\": [\"Có\", \"Có\", \"Có\", \"Không\", \"Có\", \"Không\", \"Không\", \"Có\", \"Không\", \"Có\"]\n",
    "})"
   ]
  }
 ],
 "metadata": {
  "kernelspec": {
   "display_name": "aio_env_0703",
   "language": "python",
   "name": "python3"
  },
  "language_info": {
   "codemirror_mode": {
    "name": "ipython",
    "version": 3
   },
   "file_extension": ".py",
   "mimetype": "text/x-python",
   "name": "python",
   "nbconvert_exporter": "python",
   "pygments_lexer": "ipython3",
   "version": "3.12.9"
  }
 },
 "nbformat": 4,
 "nbformat_minor": 2
}
