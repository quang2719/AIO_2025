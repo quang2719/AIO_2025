{
 "cells": [
  {
   "cell_type": "code",
   "execution_count": 25,
   "metadata": {},
   "outputs": [],
   "source": [
    "\n",
    "def handle(a : list[list],p):\n",
    "    n = len(a)\n",
    "    #left+right\n",
    "    for i in range(n):\n",
    "        row = a[i]\n",
    "        for _ in range(p):\n",
    "            row.insert(0,0)\n",
    "            row.append(0)\n",
    "        a[i] = row\n",
    "    # top\n",
    "    \n",
    "    print('check')\n",
    "    for x in a:\n",
    "        for y in x:\n",
    "            print(y,end=\" \")\n",
    "        print()\n",
    "    \n",
    "    for i in range(p):\n",
    "        new_row = [0] * (n+2*p) \n",
    "        a.insert(0,new_row)\n",
    "    # bottom\n",
    "    for i in range(p):\n",
    "        new_row = [0] * (n+2*p) \n",
    "        a.append(new_row)\n",
    "    return a"
   ]
  },
  {
   "cell_type": "code",
   "execution_count": 26,
   "metadata": {},
   "outputs": [
    {
     "name": "stdout",
     "output_type": "stream",
     "text": [
      "check\n",
      "0 1 2 3 0 \n",
      "0 1 2 3 0 \n",
      "0 1 2 3 0 \n",
      "res\n",
      "0 0 0 0 0 \n",
      "0 1 2 3 0 \n",
      "0 1 2 3 0 \n",
      "0 1 2 3 0 \n",
      "0 0 0 0 0 \n"
     ]
    }
   ],
   "source": [
    "a = [[1,2,3],[1,2,3],[1,2,3]]\n",
    "res = handle(a,1)\n",
    "print('res')\n",
    "for x in res:\n",
    "    for y in x:\n",
    "        print(y,end=\" \")\n",
    "    print()\n"
   ]
  },
  {
   "cell_type": "code",
   "execution_count": 17,
   "metadata": {},
   "outputs": [
    {
     "data": {
      "text/plain": [
       "[0, 0, 0, 0, 0, 0, 0, 0, 0]"
      ]
     },
     "execution_count": 17,
     "metadata": {},
     "output_type": "execute_result"
    }
   ],
   "source": [
    "x = [0] * (5+2*2) \n",
    "x"
   ]
  },
  {
   "cell_type": "code",
   "execution_count": null,
   "metadata": {},
   "outputs": [],
   "source": []
  }
 ],
 "metadata": {
  "kernelspec": {
   "display_name": "aio_env_0703",
   "language": "python",
   "name": "python3"
  },
  "language_info": {
   "codemirror_mode": {
    "name": "ipython",
    "version": 3
   },
   "file_extension": ".py",
   "mimetype": "text/x-python",
   "name": "python",
   "nbconvert_exporter": "python",
   "pygments_lexer": "ipython3",
   "version": "3.12.9"
  }
 },
 "nbformat": 4,
 "nbformat_minor": 2
}
